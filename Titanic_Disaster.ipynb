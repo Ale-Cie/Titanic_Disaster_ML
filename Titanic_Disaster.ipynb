{
  "cells": [
    {
      "cell_type": "markdown",
      "metadata": {
        "id": "view-in-github",
        "colab_type": "text"
      },
      "source": [
        "<a href=\"https://colab.research.google.com/github/Ale-Cie/Titanic_Disaster_ML/blob/main/Titanic_Disaster.ipynb\" target=\"_parent\"><img src=\"https://colab.research.google.com/assets/colab-badge.svg\" alt=\"Open In Colab\"/></a>"
      ]
    },
    {
      "cell_type": "markdown",
      "metadata": {
        "id": "-XYFAMeUU8Rn"
      },
      "source": [
        "# The Titanic Disaster ML Notebook\n",
        "\n",
        "In this notebook we will go through the dataset available in the Kaggle competiton which can be found under this <a href=\"https://www.kaggle.com/competitions/titanic/\">link</a>.\n",
        "\n",
        "If we begin by reading the competition's overview we quickly learn that we're faced with a binary classification task. By following the Scikit-Learn model selection map we get a few suggestions already - `LinearSVC()`, `KNeighborsClassifier()`,`DecisionTreeClassifier()` and if all else fails the `RandomForestClassifier()`. From previous experiences I know that `LogisticRegression()` works pretty good with binary classification as well.\n",
        "\n",
        "We will roughly follow these steps:\n",
        " - Defining the problem (Which Kaggle kindly did for us)\n",
        " - Exploring the data\n",
        " - Create initial model(s) and tuning the hyperparameters\n",
        " - Evaluating the model(s) \n",
        " - Experimenting untill satisfied \n",
        "\n",
        "Let's start by importing all the tools we will need."
      ]
    },
    {
      "cell_type": "code",
      "execution_count": null,
      "metadata": {
        "id": "FJGY6imVWKPJ"
      },
      "outputs": [],
      "source": [
        "import matplotlib.pyplot as plt \n",
        "import numpy as np \n",
        "import pandas as pd\n",
        "import os\n",
        "import seaborn as sns\n",
        "\n",
        "from sklearn.ensemble import RandomForestClassifier\n",
        "from sklearn.linear_model import LogisticRegression\n",
        "from sklearn.neighbors import KNeighborsClassifier\n",
        "from sklearn.svm  import LinearSVC\n",
        "from sklearn.tree import DecisionTreeClassifier\n",
        "from sklearn.metrics import roc_curve, auc\n",
        "from sklearn.metrics import confusion_matrix, classification_report \n",
        "from sklearn.model_selection import GridSearchCV, RandomizedSearchCV\n",
        "from sklearn.model_selection import cross_val_score, train_test_split\n",
        "\n",
        "from warnings import filterwarnings"
      ]
    },
    {
      "cell_type": "code",
      "execution_count": null,
      "metadata": {
        "id": "TLDH5P1PBUDp"
      },
      "outputs": [],
      "source": [
        "filterwarnings(\"ignore\")"
      ]
    },
    {
      "cell_type": "markdown",
      "metadata": {
        "id": "te7F1niRyaM7"
      },
      "source": [
        "## Data exploration and preparation\n",
        "\n",
        "Here is a quick recap of all the features:\n",
        "\n",
        " - Survived: Survival\t0 = No, 1 = Yes\n",
        " - Pclass: Ticket class\t1 = 1st, 2 = 2nd, 3 = 3rd\n",
        " - Sex: Sex\n",
        " - Age: Age in years\n",
        " - SibSp: # of siblings / spouses aboard the Titanic\n",
        " - Parch: # of parents / children aboard the Titanic\n",
        " - Ticket: Ticket number\t\n",
        " - Fare: Passenger fare\n",
        " - Cabin: Cabin number\t\n",
        " - Embarked:\tPort of Embarkation C = Cherbourg, Q = Queenstown, S = Southampton"
      ]
    },
    {
      "cell_type": "code",
      "execution_count": null,
      "metadata": {
        "colab": {
          "base_uri": "https://localhost:8080/",
          "height": 206
        },
        "id": "4JT-wtANJyC2",
        "outputId": "74608716-45f9-441c-cdcc-28150aa97127"
      },
      "outputs": [
        {
          "output_type": "execute_result",
          "data": {
            "text/plain": [
              "   PassengerId  Survived  Pclass  \\\n",
              "0            1         0       3   \n",
              "1            2         1       1   \n",
              "2            3         1       3   \n",
              "3            4         1       1   \n",
              "4            5         0       3   \n",
              "\n",
              "                                                Name     Sex   Age  SibSp  \\\n",
              "0                            Braund, Mr. Owen Harris    male  22.0      1   \n",
              "1  Cumings, Mrs. John Bradley (Florence Briggs Th...  female  38.0      1   \n",
              "2                             Heikkinen, Miss. Laina  female  26.0      0   \n",
              "3       Futrelle, Mrs. Jacques Heath (Lily May Peel)  female  35.0      1   \n",
              "4                           Allen, Mr. William Henry    male  35.0      0   \n",
              "\n",
              "   Parch            Ticket     Fare Cabin Embarked  \n",
              "0      0         A/5 21171   7.2500   NaN        S  \n",
              "1      0          PC 17599  71.2833   C85        C  \n",
              "2      0  STON/O2. 3101282   7.9250   NaN        S  \n",
              "3      0            113803  53.1000  C123        S  \n",
              "4      0            373450   8.0500   NaN        S  "
            ],
            "text/html": [
              "\n",
              "  <div id=\"df-1be59715-10e0-4108-90ca-76d6ba0d64df\">\n",
              "    <div class=\"colab-df-container\">\n",
              "      <div>\n",
              "<style scoped>\n",
              "    .dataframe tbody tr th:only-of-type {\n",
              "        vertical-align: middle;\n",
              "    }\n",
              "\n",
              "    .dataframe tbody tr th {\n",
              "        vertical-align: top;\n",
              "    }\n",
              "\n",
              "    .dataframe thead th {\n",
              "        text-align: right;\n",
              "    }\n",
              "</style>\n",
              "<table border=\"1\" class=\"dataframe\">\n",
              "  <thead>\n",
              "    <tr style=\"text-align: right;\">\n",
              "      <th></th>\n",
              "      <th>PassengerId</th>\n",
              "      <th>Survived</th>\n",
              "      <th>Pclass</th>\n",
              "      <th>Name</th>\n",
              "      <th>Sex</th>\n",
              "      <th>Age</th>\n",
              "      <th>SibSp</th>\n",
              "      <th>Parch</th>\n",
              "      <th>Ticket</th>\n",
              "      <th>Fare</th>\n",
              "      <th>Cabin</th>\n",
              "      <th>Embarked</th>\n",
              "    </tr>\n",
              "  </thead>\n",
              "  <tbody>\n",
              "    <tr>\n",
              "      <th>0</th>\n",
              "      <td>1</td>\n",
              "      <td>0</td>\n",
              "      <td>3</td>\n",
              "      <td>Braund, Mr. Owen Harris</td>\n",
              "      <td>male</td>\n",
              "      <td>22.0</td>\n",
              "      <td>1</td>\n",
              "      <td>0</td>\n",
              "      <td>A/5 21171</td>\n",
              "      <td>7.2500</td>\n",
              "      <td>NaN</td>\n",
              "      <td>S</td>\n",
              "    </tr>\n",
              "    <tr>\n",
              "      <th>1</th>\n",
              "      <td>2</td>\n",
              "      <td>1</td>\n",
              "      <td>1</td>\n",
              "      <td>Cumings, Mrs. John Bradley (Florence Briggs Th...</td>\n",
              "      <td>female</td>\n",
              "      <td>38.0</td>\n",
              "      <td>1</td>\n",
              "      <td>0</td>\n",
              "      <td>PC 17599</td>\n",
              "      <td>71.2833</td>\n",
              "      <td>C85</td>\n",
              "      <td>C</td>\n",
              "    </tr>\n",
              "    <tr>\n",
              "      <th>2</th>\n",
              "      <td>3</td>\n",
              "      <td>1</td>\n",
              "      <td>3</td>\n",
              "      <td>Heikkinen, Miss. Laina</td>\n",
              "      <td>female</td>\n",
              "      <td>26.0</td>\n",
              "      <td>0</td>\n",
              "      <td>0</td>\n",
              "      <td>STON/O2. 3101282</td>\n",
              "      <td>7.9250</td>\n",
              "      <td>NaN</td>\n",
              "      <td>S</td>\n",
              "    </tr>\n",
              "    <tr>\n",
              "      <th>3</th>\n",
              "      <td>4</td>\n",
              "      <td>1</td>\n",
              "      <td>1</td>\n",
              "      <td>Futrelle, Mrs. Jacques Heath (Lily May Peel)</td>\n",
              "      <td>female</td>\n",
              "      <td>35.0</td>\n",
              "      <td>1</td>\n",
              "      <td>0</td>\n",
              "      <td>113803</td>\n",
              "      <td>53.1000</td>\n",
              "      <td>C123</td>\n",
              "      <td>S</td>\n",
              "    </tr>\n",
              "    <tr>\n",
              "      <th>4</th>\n",
              "      <td>5</td>\n",
              "      <td>0</td>\n",
              "      <td>3</td>\n",
              "      <td>Allen, Mr. William Henry</td>\n",
              "      <td>male</td>\n",
              "      <td>35.0</td>\n",
              "      <td>0</td>\n",
              "      <td>0</td>\n",
              "      <td>373450</td>\n",
              "      <td>8.0500</td>\n",
              "      <td>NaN</td>\n",
              "      <td>S</td>\n",
              "    </tr>\n",
              "  </tbody>\n",
              "</table>\n",
              "</div>\n",
              "      <button class=\"colab-df-convert\" onclick=\"convertToInteractive('df-1be59715-10e0-4108-90ca-76d6ba0d64df')\"\n",
              "              title=\"Convert this dataframe to an interactive table.\"\n",
              "              style=\"display:none;\">\n",
              "        \n",
              "  <svg xmlns=\"http://www.w3.org/2000/svg\" height=\"24px\"viewBox=\"0 0 24 24\"\n",
              "       width=\"24px\">\n",
              "    <path d=\"M0 0h24v24H0V0z\" fill=\"none\"/>\n",
              "    <path d=\"M18.56 5.44l.94 2.06.94-2.06 2.06-.94-2.06-.94-.94-2.06-.94 2.06-2.06.94zm-11 1L8.5 8.5l.94-2.06 2.06-.94-2.06-.94L8.5 2.5l-.94 2.06-2.06.94zm10 10l.94 2.06.94-2.06 2.06-.94-2.06-.94-.94-2.06-.94 2.06-2.06.94z\"/><path d=\"M17.41 7.96l-1.37-1.37c-.4-.4-.92-.59-1.43-.59-.52 0-1.04.2-1.43.59L10.3 9.45l-7.72 7.72c-.78.78-.78 2.05 0 2.83L4 21.41c.39.39.9.59 1.41.59.51 0 1.02-.2 1.41-.59l7.78-7.78 2.81-2.81c.8-.78.8-2.07 0-2.86zM5.41 20L4 18.59l7.72-7.72 1.47 1.35L5.41 20z\"/>\n",
              "  </svg>\n",
              "      </button>\n",
              "      \n",
              "  <style>\n",
              "    .colab-df-container {\n",
              "      display:flex;\n",
              "      flex-wrap:wrap;\n",
              "      gap: 12px;\n",
              "    }\n",
              "\n",
              "    .colab-df-convert {\n",
              "      background-color: #E8F0FE;\n",
              "      border: none;\n",
              "      border-radius: 50%;\n",
              "      cursor: pointer;\n",
              "      display: none;\n",
              "      fill: #1967D2;\n",
              "      height: 32px;\n",
              "      padding: 0 0 0 0;\n",
              "      width: 32px;\n",
              "    }\n",
              "\n",
              "    .colab-df-convert:hover {\n",
              "      background-color: #E2EBFA;\n",
              "      box-shadow: 0px 1px 2px rgba(60, 64, 67, 0.3), 0px 1px 3px 1px rgba(60, 64, 67, 0.15);\n",
              "      fill: #174EA6;\n",
              "    }\n",
              "\n",
              "    [theme=dark] .colab-df-convert {\n",
              "      background-color: #3B4455;\n",
              "      fill: #D2E3FC;\n",
              "    }\n",
              "\n",
              "    [theme=dark] .colab-df-convert:hover {\n",
              "      background-color: #434B5C;\n",
              "      box-shadow: 0px 1px 3px 1px rgba(0, 0, 0, 0.15);\n",
              "      filter: drop-shadow(0px 1px 2px rgba(0, 0, 0, 0.3));\n",
              "      fill: #FFFFFF;\n",
              "    }\n",
              "  </style>\n",
              "\n",
              "      <script>\n",
              "        const buttonEl =\n",
              "          document.querySelector('#df-1be59715-10e0-4108-90ca-76d6ba0d64df button.colab-df-convert');\n",
              "        buttonEl.style.display =\n",
              "          google.colab.kernel.accessAllowed ? 'block' : 'none';\n",
              "\n",
              "        async function convertToInteractive(key) {\n",
              "          const element = document.querySelector('#df-1be59715-10e0-4108-90ca-76d6ba0d64df');\n",
              "          const dataTable =\n",
              "            await google.colab.kernel.invokeFunction('convertToInteractive',\n",
              "                                                     [key], {});\n",
              "          if (!dataTable) return;\n",
              "\n",
              "          const docLinkHtml = 'Like what you see? Visit the ' +\n",
              "            '<a target=\"_blank\" href=https://colab.research.google.com/notebooks/data_table.ipynb>data table notebook</a>'\n",
              "            + ' to learn more about interactive tables.';\n",
              "          element.innerHTML = '';\n",
              "          dataTable['output_type'] = 'display_data';\n",
              "          await google.colab.output.renderOutput(dataTable, element);\n",
              "          const docLink = document.createElement('div');\n",
              "          docLink.innerHTML = docLinkHtml;\n",
              "          element.appendChild(docLink);\n",
              "        }\n",
              "      </script>\n",
              "    </div>\n",
              "  </div>\n",
              "  "
            ]
          },
          "metadata": {},
          "execution_count": 3
        }
      ],
      "source": [
        "# Let's load in the training dataset and explore it a bit\n",
        "try:\n",
        "  df = pd.read_csv(\"/content/drive/MyDrive/Titanic ML Comp/train.csv\")\n",
        "except:\n",
        "  df = pd.read_csv(\"/kaggle/input/titanic/train.csv\")\n",
        "df.head()"
      ]
    },
    {
      "cell_type": "code",
      "execution_count": null,
      "metadata": {
        "colab": {
          "base_uri": "https://localhost:8080/"
        },
        "id": "H6GM4B8aBwyu",
        "outputId": "1ae3c00e-5b34-4e8a-c04a-a9d6c25ae8ad"
      },
      "outputs": [
        {
          "output_type": "execute_result",
          "data": {
            "text/plain": [
              "PassengerId      0\n",
              "Survived         0\n",
              "Pclass           0\n",
              "Name             0\n",
              "Sex              0\n",
              "Age            177\n",
              "SibSp            0\n",
              "Parch            0\n",
              "Ticket           0\n",
              "Fare             0\n",
              "Cabin          687\n",
              "Embarked         2\n",
              "dtype: int64"
            ]
          },
          "metadata": {},
          "execution_count": 4
        }
      ],
      "source": [
        "np.sum(df.isna())"
      ]
    },
    {
      "cell_type": "code",
      "execution_count": null,
      "metadata": {
        "colab": {
          "base_uri": "https://localhost:8080/"
        },
        "id": "syDeBm3vtqIN",
        "outputId": "4946c3fa-16f9-4553-84c4-35dfb114ab4d"
      },
      "outputs": [
        {
          "output_type": "execute_result",
          "data": {
            "text/plain": [
              "(891, 12)"
            ]
          },
          "metadata": {},
          "execution_count": 5
        }
      ],
      "source": [
        "df.shape"
      ]
    },
    {
      "cell_type": "markdown",
      "metadata": {
        "id": "hQivISjsv1PB"
      },
      "source": [
        "### Data preparation\n",
        "\n",
        "Looking at the shape of this dataset and the amount of missing \"Cabin\" data, we probably should remove this column from the DataFrame - even with any manipulation it would not be representative of the actual values.\n",
        "\n",
        "Passengers with missing \"Embarked\" values can be easily dropped, and the \"Name\" column I think can be dropped too, since how the person was named doesn't really influence their survavibility... I can always be proved wrong though.\n",
        "\n",
        "\"Age\" column is quite perplexing. One one hand there aren't that many missing values and removing them won't affect the scale of the dataset that much. We could always try making a mean estimate.\n",
        "\n",
        "Oh and for the \"Embarked\" and \"Sex\" columns we will have to make the numerical values out of the text given."
      ]
    },
    {
      "cell_type": "code",
      "execution_count": null,
      "metadata": {
        "id": "PMvACfe-vyYh"
      },
      "outputs": [],
      "source": [
        "# We will define a function now, because the exact same changes will have to be made on the test data later on\n",
        "def data_manipulator(df):\n",
        "  # Let's start by dropping the entire \"Cabin\" and \"Name\" columns and then we will drop all rows with missing values\n",
        "  df.drop([\"Cabin\", \"Name\", \"PassengerId\"], axis=1, inplace= True)\n",
        "\n",
        "  # We have to change the index values in the DataFrame after removing rows, since it causes some silly bugs\n",
        "  # While we're at it let's make a quick loop to turn the alphabetical values in the \"Embarked\" and \"Sex\" into numericals\n",
        "  # Values will go as follows: for Embarked - C=0, Q=1, S=2\n",
        "  # For Sex - male=0, female=1\n",
        "  for idx in df.index:\n",
        "    embarked = df[\"Embarked\"][idx]\n",
        "    sex = df[\"Sex\"][idx]\n",
        "    if embarked == \"C\":\n",
        "      embarked = 0\n",
        "    elif embarked == \"Q\":\n",
        "      embarked = 1\n",
        "    elif embarked ==\"S\":\n",
        "      embarked = 2\n",
        "    else:\n",
        "      pass\n",
        "    if sex == \"male\":\n",
        "      sex = 0\n",
        "    else:\n",
        "      sex = 1\n",
        "\n",
        "    df[\"Embarked\"][idx] = embarked\n",
        "    df[\"Sex\"][idx] = sex\n",
        "\n",
        "  # Here I will attempt to turn \"object\" type tickets into int64 tickets by cutting off the letters\n",
        "  #I doubt it's a good practice but for now it should do\n",
        "  ticket_list = []\n",
        "  for ticket in df[\"Ticket\"]:\n",
        "    new_ticket = \"\"\n",
        "    for char in ticket:\n",
        "      if char.isnumeric():\n",
        "        new_ticket += char\n",
        "      else:\n",
        "        continue\n",
        "    if new_ticket == \"\":\n",
        "      new_ticket = None\n",
        "    ticket_list.append(new_ticket)\n",
        "\n",
        "  df[\"Ticket\"] = ticket_list\n",
        "\n",
        "  df.dropna(inplace= True)\n",
        "  df = df.astype({\"Embarked\": \"int64\", \"Sex\": \"int64\", \"Ticket\": \"int64\"})\n",
        "  return df\n",
        "\n",
        "df = data_manipulator(df)\n"
      ]
    },
    {
      "cell_type": "code",
      "execution_count": null,
      "metadata": {
        "colab": {
          "base_uri": "https://localhost:8080/",
          "height": 206
        },
        "id": "-igJY7X-AUkk",
        "outputId": "d8cad2b3-044c-47a3-fa59-b5e2a8f64703"
      },
      "outputs": [
        {
          "output_type": "execute_result",
          "data": {
            "text/plain": [
              "   Survived  Pclass  Sex   Age  SibSp  Parch    Ticket     Fare  Embarked\n",
              "0         0       3    0  22.0      1      0    521171   7.2500         2\n",
              "1         1       1    1  38.0      1      0     17599  71.2833         0\n",
              "2         1       3    1  26.0      0      0  23101282   7.9250         2\n",
              "3         1       1    1  35.0      1      0    113803  53.1000         2\n",
              "4         0       3    0  35.0      0      0    373450   8.0500         2"
            ],
            "text/html": [
              "\n",
              "  <div id=\"df-46ea3ca3-532c-4b6e-a0b3-23b5080b010d\">\n",
              "    <div class=\"colab-df-container\">\n",
              "      <div>\n",
              "<style scoped>\n",
              "    .dataframe tbody tr th:only-of-type {\n",
              "        vertical-align: middle;\n",
              "    }\n",
              "\n",
              "    .dataframe tbody tr th {\n",
              "        vertical-align: top;\n",
              "    }\n",
              "\n",
              "    .dataframe thead th {\n",
              "        text-align: right;\n",
              "    }\n",
              "</style>\n",
              "<table border=\"1\" class=\"dataframe\">\n",
              "  <thead>\n",
              "    <tr style=\"text-align: right;\">\n",
              "      <th></th>\n",
              "      <th>Survived</th>\n",
              "      <th>Pclass</th>\n",
              "      <th>Sex</th>\n",
              "      <th>Age</th>\n",
              "      <th>SibSp</th>\n",
              "      <th>Parch</th>\n",
              "      <th>Ticket</th>\n",
              "      <th>Fare</th>\n",
              "      <th>Embarked</th>\n",
              "    </tr>\n",
              "  </thead>\n",
              "  <tbody>\n",
              "    <tr>\n",
              "      <th>0</th>\n",
              "      <td>0</td>\n",
              "      <td>3</td>\n",
              "      <td>0</td>\n",
              "      <td>22.0</td>\n",
              "      <td>1</td>\n",
              "      <td>0</td>\n",
              "      <td>521171</td>\n",
              "      <td>7.2500</td>\n",
              "      <td>2</td>\n",
              "    </tr>\n",
              "    <tr>\n",
              "      <th>1</th>\n",
              "      <td>1</td>\n",
              "      <td>1</td>\n",
              "      <td>1</td>\n",
              "      <td>38.0</td>\n",
              "      <td>1</td>\n",
              "      <td>0</td>\n",
              "      <td>17599</td>\n",
              "      <td>71.2833</td>\n",
              "      <td>0</td>\n",
              "    </tr>\n",
              "    <tr>\n",
              "      <th>2</th>\n",
              "      <td>1</td>\n",
              "      <td>3</td>\n",
              "      <td>1</td>\n",
              "      <td>26.0</td>\n",
              "      <td>0</td>\n",
              "      <td>0</td>\n",
              "      <td>23101282</td>\n",
              "      <td>7.9250</td>\n",
              "      <td>2</td>\n",
              "    </tr>\n",
              "    <tr>\n",
              "      <th>3</th>\n",
              "      <td>1</td>\n",
              "      <td>1</td>\n",
              "      <td>1</td>\n",
              "      <td>35.0</td>\n",
              "      <td>1</td>\n",
              "      <td>0</td>\n",
              "      <td>113803</td>\n",
              "      <td>53.1000</td>\n",
              "      <td>2</td>\n",
              "    </tr>\n",
              "    <tr>\n",
              "      <th>4</th>\n",
              "      <td>0</td>\n",
              "      <td>3</td>\n",
              "      <td>0</td>\n",
              "      <td>35.0</td>\n",
              "      <td>0</td>\n",
              "      <td>0</td>\n",
              "      <td>373450</td>\n",
              "      <td>8.0500</td>\n",
              "      <td>2</td>\n",
              "    </tr>\n",
              "  </tbody>\n",
              "</table>\n",
              "</div>\n",
              "      <button class=\"colab-df-convert\" onclick=\"convertToInteractive('df-46ea3ca3-532c-4b6e-a0b3-23b5080b010d')\"\n",
              "              title=\"Convert this dataframe to an interactive table.\"\n",
              "              style=\"display:none;\">\n",
              "        \n",
              "  <svg xmlns=\"http://www.w3.org/2000/svg\" height=\"24px\"viewBox=\"0 0 24 24\"\n",
              "       width=\"24px\">\n",
              "    <path d=\"M0 0h24v24H0V0z\" fill=\"none\"/>\n",
              "    <path d=\"M18.56 5.44l.94 2.06.94-2.06 2.06-.94-2.06-.94-.94-2.06-.94 2.06-2.06.94zm-11 1L8.5 8.5l.94-2.06 2.06-.94-2.06-.94L8.5 2.5l-.94 2.06-2.06.94zm10 10l.94 2.06.94-2.06 2.06-.94-2.06-.94-.94-2.06-.94 2.06-2.06.94z\"/><path d=\"M17.41 7.96l-1.37-1.37c-.4-.4-.92-.59-1.43-.59-.52 0-1.04.2-1.43.59L10.3 9.45l-7.72 7.72c-.78.78-.78 2.05 0 2.83L4 21.41c.39.39.9.59 1.41.59.51 0 1.02-.2 1.41-.59l7.78-7.78 2.81-2.81c.8-.78.8-2.07 0-2.86zM5.41 20L4 18.59l7.72-7.72 1.47 1.35L5.41 20z\"/>\n",
              "  </svg>\n",
              "      </button>\n",
              "      \n",
              "  <style>\n",
              "    .colab-df-container {\n",
              "      display:flex;\n",
              "      flex-wrap:wrap;\n",
              "      gap: 12px;\n",
              "    }\n",
              "\n",
              "    .colab-df-convert {\n",
              "      background-color: #E8F0FE;\n",
              "      border: none;\n",
              "      border-radius: 50%;\n",
              "      cursor: pointer;\n",
              "      display: none;\n",
              "      fill: #1967D2;\n",
              "      height: 32px;\n",
              "      padding: 0 0 0 0;\n",
              "      width: 32px;\n",
              "    }\n",
              "\n",
              "    .colab-df-convert:hover {\n",
              "      background-color: #E2EBFA;\n",
              "      box-shadow: 0px 1px 2px rgba(60, 64, 67, 0.3), 0px 1px 3px 1px rgba(60, 64, 67, 0.15);\n",
              "      fill: #174EA6;\n",
              "    }\n",
              "\n",
              "    [theme=dark] .colab-df-convert {\n",
              "      background-color: #3B4455;\n",
              "      fill: #D2E3FC;\n",
              "    }\n",
              "\n",
              "    [theme=dark] .colab-df-convert:hover {\n",
              "      background-color: #434B5C;\n",
              "      box-shadow: 0px 1px 3px 1px rgba(0, 0, 0, 0.15);\n",
              "      filter: drop-shadow(0px 1px 2px rgba(0, 0, 0, 0.3));\n",
              "      fill: #FFFFFF;\n",
              "    }\n",
              "  </style>\n",
              "\n",
              "      <script>\n",
              "        const buttonEl =\n",
              "          document.querySelector('#df-46ea3ca3-532c-4b6e-a0b3-23b5080b010d button.colab-df-convert');\n",
              "        buttonEl.style.display =\n",
              "          google.colab.kernel.accessAllowed ? 'block' : 'none';\n",
              "\n",
              "        async function convertToInteractive(key) {\n",
              "          const element = document.querySelector('#df-46ea3ca3-532c-4b6e-a0b3-23b5080b010d');\n",
              "          const dataTable =\n",
              "            await google.colab.kernel.invokeFunction('convertToInteractive',\n",
              "                                                     [key], {});\n",
              "          if (!dataTable) return;\n",
              "\n",
              "          const docLinkHtml = 'Like what you see? Visit the ' +\n",
              "            '<a target=\"_blank\" href=https://colab.research.google.com/notebooks/data_table.ipynb>data table notebook</a>'\n",
              "            + ' to learn more about interactive tables.';\n",
              "          element.innerHTML = '';\n",
              "          dataTable['output_type'] = 'display_data';\n",
              "          await google.colab.output.renderOutput(dataTable, element);\n",
              "          const docLink = document.createElement('div');\n",
              "          docLink.innerHTML = docLinkHtml;\n",
              "          element.appendChild(docLink);\n",
              "        }\n",
              "      </script>\n",
              "    </div>\n",
              "  </div>\n",
              "  "
            ]
          },
          "metadata": {},
          "execution_count": 7
        }
      ],
      "source": [
        "df.head()"
      ]
    },
    {
      "cell_type": "code",
      "source": [
        "fig, ax = plt.subplots(figsize=(7, 7))\n",
        "plt.bar(x=[\"No\", \"Yes\"], height=df[\"Survived\"].value_counts(), color=[\"tab:green\", \"tab:orange\"], width=0.5)\n",
        "plt.title(\"Comparison of survived and dead passengers\")\n",
        "plt.xlabel(\"Survived\")\n",
        "plt.ylabel(\"Amount\")\n",
        "for container in ax.containers:\n",
        "  ax.bar_label(container);\n",
        "\n"
      ],
      "metadata": {
        "colab": {
          "base_uri": "https://localhost:8080/",
          "height": 458
        },
        "id": "3cMEiaZUKTnU",
        "outputId": "01a8bc15-1627-421d-f993-0318b1af5545"
      },
      "execution_count": null,
      "outputs": [
        {
          "output_type": "display_data",
          "data": {
            "text/plain": [
              "<Figure size 504x504 with 1 Axes>"
            ],
            "image/png": "[encoded data removed]"
          },
          "metadata": {
            "needs_background": "light"
          }
        }
      ]
    },
    {
      "cell_type": "code",
      "execution_count": null,
      "metadata": {
        "colab": {
          "base_uri": "https://localhost:8080/"
        },
        "id": "QnO-cBmG5r5G",
        "outputId": "ebf12f57-36e4-4076-e505-533816b8c261"
      },
      "outputs": [
        {
          "output_type": "execute_result",
          "data": {
            "text/plain": [
              "Survived      int64\n",
              "Pclass        int64\n",
              "Sex           int64\n",
              "Age         float64\n",
              "SibSp         int64\n",
              "Parch         int64\n",
              "Ticket        int64\n",
              "Fare        float64\n",
              "Embarked      int64\n",
              "dtype: object"
            ]
          },
          "metadata": {},
          "execution_count": 9
        }
      ],
      "source": [
        "df.dtypes"
      ]
    },
    {
      "cell_type": "markdown",
      "metadata": {
        "id": "BFmxIVyqp9Zu"
      },
      "source": [
        "Now that we have numerical values in all columns we can start dividing data into X, y, train and validation sets and start experimenting with different models\n",
        "\n",
        "### X & y sets creation\n",
        "\n",
        "Although we are using `train_test_split` we have to remember that we will be dividing our DataFrame into 'train' set and 'validation' set, since the actual test set is given to us by Kaggle. We will be scoring our models on the validation set and then making real predictions on the test set."
      ]
    },
    {
      "cell_type": "code",
      "execution_count": null,
      "metadata": {
        "id": "kRptxLFCmF5z"
      },
      "outputs": [],
      "source": [
        "np.random.seed(31)\n",
        "# Let's start by creating the X and y sets\n",
        "\n",
        "X = df.drop([\"Survived\"], axis=1)\n",
        "y = df[\"Survived\"]\n",
        "\n",
        "# Now it's time for creating train and test sets\n",
        "\n",
        "X_train, X_validation, y_train, y_validation = train_test_split(X, y, train_size=0.25)"
      ]
    },
    {
      "cell_type": "markdown",
      "metadata": {
        "id": "WQYGuzk1t3N5"
      },
      "source": [
        "## Modelling\n",
        "\n",
        "Now that we have our data separated and ready to be used it's time to start the modelling process. I will begin with creating a dictionary of all the imported models"
      ]
    },
    {
      "cell_type": "markdown",
      "metadata": {
        "id": "TxG85tP1ocNJ"
      },
      "source": [
        "### Instantiating and scoring the default models\n",
        "\n",
        "We will start by creating default models and checking their accuracy. Next we will go through different means of evaluation and see whitch model performs best and which should be grid searched etc."
      ]
    },
    {
      "cell_type": "code",
      "execution_count": null,
      "metadata": {
        "id": "PBJR8ntgsVCT"
      },
      "outputs": [],
      "source": [
        "def_models = {\n",
        "    \"LinearSVC\": LinearSVC(),\n",
        "    \"KNeighborsClassifier\": KNeighborsClassifier(),\n",
        "    \"LogisticRegression\": LogisticRegression(),\n",
        "    \"DecisionTreeClassifier\": DecisionTreeClassifier(),\n",
        "    \"RandomForestClassifier\": RandomForestClassifier()\n",
        "}"
      ]
    },
    {
      "cell_type": "code",
      "execution_count": null,
      "metadata": {
        "colab": {
          "base_uri": "https://localhost:8080/"
        },
        "id": "Z7xmKMLXpCab",
        "outputId": "f1e98265-37b5-41ec-90d0-b18a3141f0e2"
      },
      "outputs": [
        {
          "output_type": "stream",
          "name": "stdout",
          "text": [
            "Fitting LinearSVC model...\n",
            "LinearSVC's accuracy score is 66.667 \n",
            "\n",
            "Fitting KNeighborsClassifier model...\n",
            "KNeighborsClassifier's accuracy score is 58.004 \n",
            "\n",
            "Fitting LogisticRegression model...\n",
            "LogisticRegression's accuracy score is 58.380 \n",
            "\n",
            "Fitting DecisionTreeClassifier model...\n",
            "DecisionTreeClassifier's accuracy score is 76.648 \n",
            "\n",
            "Fitting RandomForestClassifier model...\n",
            "RandomForestClassifier's accuracy score is 80.979 \n",
            "\n"
          ]
        }
      ],
      "source": [
        "for name, model in def_models.items():\n",
        "  print(f\"Fitting {name} model...\")\n",
        "  model.fit(X_train, y_train)\n",
        "  print(f\"{name}'s accuracy score is %.3f \\n\" % (model.score(X_validation, y_validation)*100))\n"
      ]
    },
    {
      "cell_type": "markdown",
      "metadata": {
        "id": "AkEgQOvRnIBU"
      },
      "source": [
        "The results are in and... They're not very good at the first glance. We can see that the best estimations were done by the two most complex of the tested models - `DecisionTreeClassifier()` and `RandomForestClassifier()`. We'll follow along with those.\n",
        "\n",
        "The reasons to consider are:\n",
        "- Bad data engineering (that would be on me)\n",
        "- Bad choice of the estimators (unlikely since these were advised by scikit-learn documentation)\n",
        "- Not enough data (possible, but there's nothing we can really do)\n",
        "- Just need to tune the hyperparameters\n",
        "\n",
        "### Tuning hyperparameters\n",
        "\n",
        "We will start the next step by creating a rather extensive parameter grid which will be used first in `RandomizedSearchCV()`. Afterwards we will (probably) trim it down a bit and put it into `GridSearchCV()`."
      ]
    },
    {
      "cell_type": "markdown",
      "source": [
        "#### `RandomizedSearchCV()` hyperparameter tuning\n",
        "\n",
        "We will begin with `RandomizedSearchCV()` so we need to create two separate parameter grids."
      ],
      "metadata": {
        "id": "3s2203zNjKZt"
      }
    },
    {
      "cell_type": "markdown",
      "source": [
        "##### `DecisionTreeClassifier()`"
      ],
      "metadata": {
        "id": "xh54MyFHw-oP"
      }
    },
    {
      "cell_type": "code",
      "source": [
        "dt_param_grid = {\n",
        "    \"splitter\": [\"best\", \"random\"],\n",
        "    \"max_depth\": [10, 20, 30, 40, 50, 60, 70, 80, 90, 100, None],\n",
        "    \"min_samples_leaf\": range(2, 30, 3),\n",
        "    \"min_samples_split\": range(2, 50, 4),\n",
        "    \"max_features\": [\"sqrt\", \"log2\"],\n",
        "    \"criterion\": [\"gini\", \"entropy\"]\n",
        "}"
      ],
      "metadata": {
        "id": "7YhpWNEhP2Sp"
      },
      "execution_count": null,
      "outputs": []
    },
    {
      "cell_type": "code",
      "source": [
        "randsearch_dt = RandomizedSearchCV(\n",
        "    estimator= DecisionTreeClassifier(),\n",
        "    param_distributions= dt_param_grid,\n",
        "    n_iter= 100,\n",
        "    cv= 5,\n",
        "    verbose= True\n",
        ")\n",
        "np.random.seed(31)\n",
        "randsearch_dt.fit(X_train, y_train)"
      ],
      "metadata": {
        "colab": {
          "base_uri": "https://localhost:8080/",
          "height": 135
        },
        "id": "w_hhUJiEP2Hd",
        "outputId": "0c470382-1abf-450c-dcfb-47e0e89bde84"
      },
      "execution_count": null,
      "outputs": [
        {
          "output_type": "stream",
          "name": "stdout",
          "text": [
            "Fitting 5 folds for each of 100 candidates, totalling 500 fits\n"
          ]
        },
        {
          "output_type": "execute_result",
          "data": {
            "text/plain": [
              "RandomizedSearchCV(cv=5, estimator=DecisionTreeClassifier(), n_iter=100,\n",
              "                   param_distributions={'criterion': ['gini', 'entropy'],\n",
              "                                        'max_depth': [10, 20, 30, 40, 50, 60,\n",
              "                                                      70, 80, 90, 100, None],\n",
              "                                        'max_features': ['sqrt', 'log2'],\n",
              "                                        'min_samples_leaf': range(2, 30, 3),\n",
              "                                        'min_samples_split': range(2, 50, 4),\n",
              "                                        'splitter': ['best', 'random']},\n",
              "                   verbose=True)"
            ],
            "text/html": [
              "<style>#sk-container-id-1 {color: black;background-color: white;}#sk-container-id-1 pre{padding: 0;}#sk-container-id-1 div.sk-toggleable {background-color: white;}#sk-container-id-1 label.sk-toggleable__label {cursor: pointer;display: block;width: 100%;margin-bottom: 0;padding: 0.3em;box-sizing: border-box;text-align: center;}#sk-container-id-1 label.sk-toggleable__label-arrow:before {content: \"▸\";float: left;margin-right: 0.25em;color: #696969;}#sk-container-id-1 label.sk-toggleable__label-arrow:hover:before {color: black;}#sk-container-id-1 div.sk-estimator:hover label.sk-toggleable__label-arrow:before {color: black;}#sk-container-id-1 div.sk-toggleable__content {max-height: 0;max-width: 0;overflow: hidden;text-align: left;background-color: #f0f8ff;}#sk-container-id-1 div.sk-toggleable__content pre {margin: 0.2em;color: black;border-radius: 0.25em;background-color: #f0f8ff;}#sk-container-id-1 input.sk-toggleable__control:checked~div.sk-toggleable__content {max-height: 200px;max-width: 100%;overflow: auto;}#sk-container-id-1 input.sk-toggleable__control:checked~label.sk-toggleable__label-arrow:before {content: \"▾\";}#sk-container-id-1 div.sk-estimator input.sk-toggleable__control:checked~label.sk-toggleable__label {background-color: #d4ebff;}#sk-container-id-1 div.sk-label input.sk-toggleable__control:checked~label.sk-toggleable__label {background-color: #d4ebff;}#sk-container-id-1 input.sk-hidden--visually {border: 0;clip: rect(1px 1px 1px 1px);clip: rect(1px, 1px, 1px, 1px);height: 1px;margin: -1px;overflow: hidden;padding: 0;position: absolute;width: 1px;}#sk-container-id-1 div.sk-estimator {font-family: monospace;background-color: #f0f8ff;border: 1px dotted black;border-radius: 0.25em;box-sizing: border-box;margin-bottom: 0.5em;}#sk-container-id-1 div.sk-estimator:hover {background-color: #d4ebff;}#sk-container-id-1 div.sk-parallel-item::after {content: \"\";width: 100%;border-bottom: 1px solid gray;flex-grow: 1;}#sk-container-id-1 div.sk-label:hover label.sk-toggleable__label {background-color: #d4ebff;}#sk-container-id-1 div.sk-serial::before {content: \"\";position: absolute;border-left: 1px solid gray;box-sizing: border-box;top: 0;bottom: 0;left: 50%;z-index: 0;}#sk-container-id-1 div.sk-serial {display: flex;flex-direction: column;align-items: center;background-color: white;padding-right: 0.2em;padding-left: 0.2em;position: relative;}#sk-container-id-1 div.sk-item {position: relative;z-index: 1;}#sk-container-id-1 div.sk-parallel {display: flex;align-items: stretch;justify-content: center;background-color: white;position: relative;}#sk-container-id-1 div.sk-item::before, #sk-container-id-1 div.sk-parallel-item::before {content: \"\";position: absolute;border-left: 1px solid gray;box-sizing: border-box;top: 0;bottom: 0;left: 50%;z-index: -1;}#sk-container-id-1 div.sk-parallel-item {display: flex;flex-direction: column;z-index: 1;position: relative;background-color: white;}#sk-container-id-1 div.sk-parallel-item:first-child::after {align-self: flex-end;width: 50%;}#sk-container-id-1 div.sk-parallel-item:last-child::after {align-self: flex-start;width: 50%;}#sk-container-id-1 div.sk-parallel-item:only-child::after {width: 0;}#sk-container-id-1 div.sk-dashed-wrapped {border: 1px dashed gray;margin: 0 0.4em 0.5em 0.4em;box-sizing: border-box;padding-bottom: 0.4em;background-color: white;}#sk-container-id-1 div.sk-label label {font-family: monospace;font-weight: bold;display: inline-block;line-height: 1.2em;}#sk-container-id-1 div.sk-label-container {text-align: center;}#sk-container-id-1 div.sk-container {/* jupyter's `normalize.less` sets `[hidden] { display: none; }` but bootstrap.min.css set `[hidden] { display: none !important; }` so we also need the `!important` here to be able to override the default hidden behavior on the sphinx rendered scikit-learn.org. See: https://github.com/scikit-learn/scikit-learn/issues/21755 */display: inline-block !important;position: relative;}#sk-container-id-1 div.sk-text-repr-fallback {display: none;}</style><div id=\"sk-container-id-1\" class=\"sk-top-container\"><div class=\"sk-text-repr-fallback\"><pre>RandomizedSearchCV(cv=5, estimator=DecisionTreeClassifier(), n_iter=100,\n",
              "                   param_distributions={&#x27;criterion&#x27;: [&#x27;gini&#x27;, &#x27;entropy&#x27;],\n",
              "                                        &#x27;max_depth&#x27;: [10, 20, 30, 40, 50, 60,\n",
              "                                                      70, 80, 90, 100, None],\n",
              "                                        &#x27;max_features&#x27;: [&#x27;sqrt&#x27;, &#x27;log2&#x27;],\n",
              "                                        &#x27;min_samples_leaf&#x27;: range(2, 30, 3),\n",
              "                                        &#x27;min_samples_split&#x27;: range(2, 50, 4),\n",
              "                                        &#x27;splitter&#x27;: [&#x27;best&#x27;, &#x27;random&#x27;]},\n",
              "                   verbose=True)</pre><b>In a Jupyter environment, please rerun this cell to show the HTML representation or trust the notebook. <br />On GitHub, the HTML representation is unable to render, please try loading this page with nbviewer.org.</b></div><div class=\"sk-container\" hidden><div class=\"sk-item sk-dashed-wrapped\"><div class=\"sk-label-container\"><div class=\"sk-label sk-toggleable\"><input class=\"sk-toggleable__control sk-hidden--visually\" id=\"sk-estimator-id-1\" type=\"checkbox\" ><label for=\"sk-estimator-id-1\" class=\"sk-toggleable__label sk-toggleable__label-arrow\">RandomizedSearchCV</label><div class=\"sk-toggleable__content\"><pre>RandomizedSearchCV(cv=5, estimator=DecisionTreeClassifier(), n_iter=100,\n",
              "                   param_distributions={&#x27;criterion&#x27;: [&#x27;gini&#x27;, &#x27;entropy&#x27;],\n",
              "                                        &#x27;max_depth&#x27;: [10, 20, 30, 40, 50, 60,\n",
              "                                                      70, 80, 90, 100, None],\n",
              "                                        &#x27;max_features&#x27;: [&#x27;sqrt&#x27;, &#x27;log2&#x27;],\n",
              "                                        &#x27;min_samples_leaf&#x27;: range(2, 30, 3),\n",
              "                                        &#x27;min_samples_split&#x27;: range(2, 50, 4),\n",
              "                                        &#x27;splitter&#x27;: [&#x27;best&#x27;, &#x27;random&#x27;]},\n",
              "                   verbose=True)</pre></div></div></div><div class=\"sk-parallel\"><div class=\"sk-parallel-item\"><div class=\"sk-item\"><div class=\"sk-label-container\"><div class=\"sk-label sk-toggleable\"><input class=\"sk-toggleable__control sk-hidden--visually\" id=\"sk-estimator-id-2\" type=\"checkbox\" ><label for=\"sk-estimator-id-2\" class=\"sk-toggleable__label sk-toggleable__label-arrow\">estimator: DecisionTreeClassifier</label><div class=\"sk-toggleable__content\"><pre>DecisionTreeClassifier()</pre></div></div></div><div class=\"sk-serial\"><div class=\"sk-item\"><div class=\"sk-estimator sk-toggleable\"><input class=\"sk-toggleable__control sk-hidden--visually\" id=\"sk-estimator-id-3\" type=\"checkbox\" ><label for=\"sk-estimator-id-3\" class=\"sk-toggleable__label sk-toggleable__label-arrow\">DecisionTreeClassifier</label><div class=\"sk-toggleable__content\"><pre>DecisionTreeClassifier()</pre></div></div></div></div></div></div></div></div></div></div>"
            ]
          },
          "metadata": {},
          "execution_count": 14
        }
      ]
    },
    {
      "cell_type": "code",
      "source": [
        "print(f\"RandomizedSearchCV DecisionTreeClassifier model score equals: %.3f \" % (randsearch_dt.score(X_validation, y_validation)*100))"
      ],
      "metadata": {
        "colab": {
          "base_uri": "https://localhost:8080/"
        },
        "id": "Qswv3Sw0RVEz",
        "outputId": "45677654-d634-4a01-e592-b3c65d6a587d"
      },
      "execution_count": null,
      "outputs": [
        {
          "output_type": "stream",
          "name": "stdout",
          "text": [
            "RandomizedSearchCV DecisionTreeClassifier model score equals: 73.070 \n"
          ]
        }
      ]
    },
    {
      "cell_type": "code",
      "source": [
        "for key, value in randsearch_dt.best_params_.items():\n",
        "  print(f\"{key}: {value}\")"
      ],
      "metadata": {
        "colab": {
          "base_uri": "https://localhost:8080/"
        },
        "id": "Xnzsdjq0Resd",
        "outputId": "7dad3693-8c81-418d-ece8-b494ce3d6093"
      },
      "execution_count": null,
      "outputs": [
        {
          "output_type": "stream",
          "name": "stdout",
          "text": [
            "splitter: best\n",
            "min_samples_split: 30\n",
            "min_samples_leaf: 5\n",
            "max_features: log2\n",
            "max_depth: 40\n",
            "criterion: gini\n"
          ]
        }
      ]
    },
    {
      "cell_type": "markdown",
      "source": [
        "##### `RandomForestClassifier()`"
      ],
      "metadata": {
        "id": "y3sSvw-QxHWh"
      }
    },
    {
      "cell_type": "code",
      "execution_count": null,
      "metadata": {
        "id": "QEAe4FkpmDd4"
      },
      "outputs": [],
      "source": [
        "rf_param_grid = {\n",
        "  \"bootstrap\": [True, False],\n",
        "  \"max_depth\": [10, 20, 30, 40, 50, 60, 70, 80, 90, 100, None],\n",
        "  \"max_features\": ['auto', 'sqrt'],\n",
        "  \"min_samples_leaf\": range(2, 30, 3),\n",
        "  \"min_samples_split\": range(2, 50, 4),\n",
        "  \"n_estimators\": [64, 128, 200, 256, 400, 600, 800, 1000, 1200, 1400, 1600, 1800, 2000],\n",
        "  \"warm_start\": [True, False]\n",
        "}"
      ]
    },
    {
      "cell_type": "code",
      "execution_count": null,
      "metadata": {
        "colab": {
          "base_uri": "https://localhost:8080/",
          "height": 135
        },
        "id": "Q0auPaXAK_zG",
        "outputId": "9787bdde-7851-4dc1-fb18-a1f07d703363"
      },
      "outputs": [
        {
          "output_type": "stream",
          "name": "stdout",
          "text": [
            "Fitting 5 folds for each of 100 candidates, totalling 500 fits\n"
          ]
        },
        {
          "output_type": "execute_result",
          "data": {
            "text/plain": [
              "RandomizedSearchCV(cv=5, estimator=RandomForestClassifier(), n_iter=100,\n",
              "                   param_distributions={'bootstrap': [True, False],\n",
              "                                        'max_depth': [10, 20, 30, 40, 50, 60,\n",
              "                                                      70, 80, 90, 100, None],\n",
              "                                        'max_features': ['auto', 'sqrt'],\n",
              "                                        'min_samples_leaf': range(2, 30, 3),\n",
              "                                        'min_samples_split': range(2, 50, 4),\n",
              "                                        'n_estimators': [64, 128, 200, 256, 400,\n",
              "                                                         600, 800, 1000, 1200,\n",
              "                                                         1400, 1600, 1800,\n",
              "                                                         2000],\n",
              "                                        'warm_start': [True, False]},\n",
              "                   verbose=True)"
            ],
            "text/html": [
              "<style>#sk-container-id-2 {color: black;background-color: white;}#sk-container-id-2 pre{padding: 0;}#sk-container-id-2 div.sk-toggleable {background-color: white;}#sk-container-id-2 label.sk-toggleable__label {cursor: pointer;display: block;width: 100%;margin-bottom: 0;padding: 0.3em;box-sizing: border-box;text-align: center;}#sk-container-id-2 label.sk-toggleable__label-arrow:before {content: \"▸\";float: left;margin-right: 0.25em;color: #696969;}#sk-container-id-2 label.sk-toggleable__label-arrow:hover:before {color: black;}#sk-container-id-2 div.sk-estimator:hover label.sk-toggleable__label-arrow:before {color: black;}#sk-container-id-2 div.sk-toggleable__content {max-height: 0;max-width: 0;overflow: hidden;text-align: left;background-color: #f0f8ff;}#sk-container-id-2 div.sk-toggleable__content pre {margin: 0.2em;color: black;border-radius: 0.25em;background-color: #f0f8ff;}#sk-container-id-2 input.sk-toggleable__control:checked~div.sk-toggleable__content {max-height: 200px;max-width: 100%;overflow: auto;}#sk-container-id-2 input.sk-toggleable__control:checked~label.sk-toggleable__label-arrow:before {content: \"▾\";}#sk-container-id-2 div.sk-estimator input.sk-toggleable__control:checked~label.sk-toggleable__label {background-color: #d4ebff;}#sk-container-id-2 div.sk-label input.sk-toggleable__control:checked~label.sk-toggleable__label {background-color: #d4ebff;}#sk-container-id-2 input.sk-hidden--visually {border: 0;clip: rect(1px 1px 1px 1px);clip: rect(1px, 1px, 1px, 1px);height: 1px;margin: -1px;overflow: hidden;padding: 0;position: absolute;width: 1px;}#sk-container-id-2 div.sk-estimator {font-family: monospace;background-color: #f0f8ff;border: 1px dotted black;border-radius: 0.25em;box-sizing: border-box;margin-bottom: 0.5em;}#sk-container-id-2 div.sk-estimator:hover {background-color: #d4ebff;}#sk-container-id-2 div.sk-parallel-item::after {content: \"\";width: 100%;border-bottom: 1px solid gray;flex-grow: 1;}#sk-container-id-2 div.sk-label:hover label.sk-toggleable__label {background-color: #d4ebff;}#sk-container-id-2 div.sk-serial::before {content: \"\";position: absolute;border-left: 1px solid gray;box-sizing: border-box;top: 0;bottom: 0;left: 50%;z-index: 0;}#sk-container-id-2 div.sk-serial {display: flex;flex-direction: column;align-items: center;background-color: white;padding-right: 0.2em;padding-left: 0.2em;position: relative;}#sk-container-id-2 div.sk-item {position: relative;z-index: 1;}#sk-container-id-2 div.sk-parallel {display: flex;align-items: stretch;justify-content: center;background-color: white;position: relative;}#sk-container-id-2 div.sk-item::before, #sk-container-id-2 div.sk-parallel-item::before {content: \"\";position: absolute;border-left: 1px solid gray;box-sizing: border-box;top: 0;bottom: 0;left: 50%;z-index: -1;}#sk-container-id-2 div.sk-parallel-item {display: flex;flex-direction: column;z-index: 1;position: relative;background-color: white;}#sk-container-id-2 div.sk-parallel-item:first-child::after {align-self: flex-end;width: 50%;}#sk-container-id-2 div.sk-parallel-item:last-child::after {align-self: flex-start;width: 50%;}#sk-container-id-2 div.sk-parallel-item:only-child::after {width: 0;}#sk-container-id-2 div.sk-dashed-wrapped {border: 1px dashed gray;margin: 0 0.4em 0.5em 0.4em;box-sizing: border-box;padding-bottom: 0.4em;background-color: white;}#sk-container-id-2 div.sk-label label {font-family: monospace;font-weight: bold;display: inline-block;line-height: 1.2em;}#sk-container-id-2 div.sk-label-container {text-align: center;}#sk-container-id-2 div.sk-container {/* jupyter's `normalize.less` sets `[hidden] { display: none; }` but bootstrap.min.css set `[hidden] { display: none !important; }` so we also need the `!important` here to be able to override the default hidden behavior on the sphinx rendered scikit-learn.org. See: https://github.com/scikit-learn/scikit-learn/issues/21755 */display: inline-block !important;position: relative;}#sk-container-id-2 div.sk-text-repr-fallback {display: none;}</style><div id=\"sk-container-id-2\" class=\"sk-top-container\"><div class=\"sk-text-repr-fallback\"><pre>RandomizedSearchCV(cv=5, estimator=RandomForestClassifier(), n_iter=100,\n",
              "                   param_distributions={&#x27;bootstrap&#x27;: [True, False],\n",
              "                                        &#x27;max_depth&#x27;: [10, 20, 30, 40, 50, 60,\n",
              "                                                      70, 80, 90, 100, None],\n",
              "                                        &#x27;max_features&#x27;: [&#x27;auto&#x27;, &#x27;sqrt&#x27;],\n",
              "                                        &#x27;min_samples_leaf&#x27;: range(2, 30, 3),\n",
              "                                        &#x27;min_samples_split&#x27;: range(2, 50, 4),\n",
              "                                        &#x27;n_estimators&#x27;: [64, 128, 200, 256, 400,\n",
              "                                                         600, 800, 1000, 1200,\n",
              "                                                         1400, 1600, 1800,\n",
              "                                                         2000],\n",
              "                                        &#x27;warm_start&#x27;: [True, False]},\n",
              "                   verbose=True)</pre><b>In a Jupyter environment, please rerun this cell to show the HTML representation or trust the notebook. <br />On GitHub, the HTML representation is unable to render, please try loading this page with nbviewer.org.</b></div><div class=\"sk-container\" hidden><div class=\"sk-item sk-dashed-wrapped\"><div class=\"sk-label-container\"><div class=\"sk-label sk-toggleable\"><input class=\"sk-toggleable__control sk-hidden--visually\" id=\"sk-estimator-id-4\" type=\"checkbox\" ><label for=\"sk-estimator-id-4\" class=\"sk-toggleable__label sk-toggleable__label-arrow\">RandomizedSearchCV</label><div class=\"sk-toggleable__content\"><pre>RandomizedSearchCV(cv=5, estimator=RandomForestClassifier(), n_iter=100,\n",
              "                   param_distributions={&#x27;bootstrap&#x27;: [True, False],\n",
              "                                        &#x27;max_depth&#x27;: [10, 20, 30, 40, 50, 60,\n",
              "                                                      70, 80, 90, 100, None],\n",
              "                                        &#x27;max_features&#x27;: [&#x27;auto&#x27;, &#x27;sqrt&#x27;],\n",
              "                                        &#x27;min_samples_leaf&#x27;: range(2, 30, 3),\n",
              "                                        &#x27;min_samples_split&#x27;: range(2, 50, 4),\n",
              "                                        &#x27;n_estimators&#x27;: [64, 128, 200, 256, 400,\n",
              "                                                         600, 800, 1000, 1200,\n",
              "                                                         1400, 1600, 1800,\n",
              "                                                         2000],\n",
              "                                        &#x27;warm_start&#x27;: [True, False]},\n",
              "                   verbose=True)</pre></div></div></div><div class=\"sk-parallel\"><div class=\"sk-parallel-item\"><div class=\"sk-item\"><div class=\"sk-label-container\"><div class=\"sk-label sk-toggleable\"><input class=\"sk-toggleable__control sk-hidden--visually\" id=\"sk-estimator-id-5\" type=\"checkbox\" ><label for=\"sk-estimator-id-5\" class=\"sk-toggleable__label sk-toggleable__label-arrow\">estimator: RandomForestClassifier</label><div class=\"sk-toggleable__content\"><pre>RandomForestClassifier()</pre></div></div></div><div class=\"sk-serial\"><div class=\"sk-item\"><div class=\"sk-estimator sk-toggleable\"><input class=\"sk-toggleable__control sk-hidden--visually\" id=\"sk-estimator-id-6\" type=\"checkbox\" ><label for=\"sk-estimator-id-6\" class=\"sk-toggleable__label sk-toggleable__label-arrow\">RandomForestClassifier</label><div class=\"sk-toggleable__content\"><pre>RandomForestClassifier()</pre></div></div></div></div></div></div></div></div></div></div>"
            ]
          },
          "metadata": {},
          "execution_count": 18
        }
      ],
      "source": [
        "randsearch_rf = RandomizedSearchCV(\n",
        "    estimator= RandomForestClassifier(),\n",
        "    param_distributions= rf_param_grid,\n",
        "    n_iter= 100,\n",
        "    cv= 5,\n",
        "    verbose= True\n",
        ")\n",
        "np.random.seed(31)\n",
        "randsearch_rf.fit(X_train, y_train)"
      ]
    },
    {
      "cell_type": "code",
      "execution_count": null,
      "metadata": {
        "colab": {
          "base_uri": "https://localhost:8080/"
        },
        "id": "mTO-56m9TPx5",
        "outputId": "a2bff652-bb10-4c72-ac01-c1bafd6c0551"
      },
      "outputs": [
        {
          "output_type": "stream",
          "name": "stdout",
          "text": [
            "RandomizedSearchCV RandomForesClassifier model score equals: 81.544 \n"
          ]
        }
      ],
      "source": [
        "print(f\"RandomizedSearchCV RandomForesClassifier model score equals: %.3f \" % (randsearch_rf.score(X_validation, y_validation)*100))"
      ]
    },
    {
      "cell_type": "code",
      "execution_count": null,
      "metadata": {
        "colab": {
          "base_uri": "https://localhost:8080/"
        },
        "id": "NYL_SErNYtvS",
        "outputId": "0080efe4-d14f-4931-8331-ded8b0841416"
      },
      "outputs": [
        {
          "output_type": "stream",
          "name": "stdout",
          "text": [
            "warm_start: True\n",
            "n_estimators: 1800\n",
            "min_samples_split: 18\n",
            "min_samples_leaf: 5\n",
            "max_features: sqrt\n",
            "max_depth: 40\n",
            "bootstrap: False\n"
          ]
        }
      ],
      "source": [
        "for key, value in randsearch_rf.best_params_.items():\n",
        "  print(f\"{key}: {value}\")"
      ]
    },
    {
      "cell_type": "markdown",
      "source": [
        "By the looks of it this result is fairly consistent with the default model, so I have high hopes we are not troubled by over-fitting. Next step is trying to find an even better model with `GridSearchCV()` but since `RandomizedSearchCV()` took us somewhere between 10-15 minutes we have to trim some values from our parameter grid. I will do it with the help of current best parameters.\n",
        "\n",
        "#### `GridSearchCV()` hyperparameter tuning\n",
        "\n",
        "Let's start by remembering what parameter grids we used and comparing them to the `best_params_`:"
      ],
      "metadata": {
        "id": "Ns_5Xn1EiEjj"
      }
    },
    {
      "cell_type": "markdown",
      "source": [
        "##### `DecisionTreeClassifier()`"
      ],
      "metadata": {
        "id": "MjR1RGPgSLNx"
      }
    },
    {
      "cell_type": "code",
      "source": [
        "for key, value in dt_param_grid.items():\n",
        "  print(f\"{key}: {value}\")"
      ],
      "metadata": {
        "colab": {
          "base_uri": "https://localhost:8080/"
        },
        "id": "Qk9RrBIqSTbO",
        "outputId": "7af74df2-291e-4f2d-8fce-c139e58055cd"
      },
      "execution_count": null,
      "outputs": [
        {
          "output_type": "stream",
          "name": "stdout",
          "text": [
            "splitter: ['best', 'random']\n",
            "max_depth: [10, 20, 30, 40, 50, 60, 70, 80, 90, 100, None]\n",
            "min_samples_leaf: range(2, 30, 3)\n",
            "min_samples_split: range(2, 50, 4)\n",
            "max_features: ['sqrt', 'log2']\n",
            "criterion: ['gini', 'entropy']\n"
          ]
        }
      ]
    },
    {
      "cell_type": "code",
      "source": [
        "for key, value in randsearch_dt.best_params_.items():\n",
        "  print(f\"{key}: {value}\")"
      ],
      "metadata": {
        "colab": {
          "base_uri": "https://localhost:8080/"
        },
        "id": "0KNY0w6ZSdMj",
        "outputId": "02325abf-895d-4979-e781-70bb33cddf12"
      },
      "execution_count": null,
      "outputs": [
        {
          "output_type": "stream",
          "name": "stdout",
          "text": [
            "splitter: best\n",
            "min_samples_split: 30\n",
            "min_samples_leaf: 5\n",
            "max_features: log2\n",
            "max_depth: 40\n",
            "criterion: gini\n"
          ]
        }
      ]
    },
    {
      "cell_type": "code",
      "source": [
        "dt_param_grid_2 = {\n",
        "    \"splitter\": [\"best\", \"random\"],\n",
        "    \"max_depth\": [10, 30, 60, 100, None],\n",
        "    \"min_samples_leaf\": [5, 8, 14, 23, 29],\n",
        "    \"min_samples_split\": [10, 22, 34, 46],\n",
        "    \"max_features\": [\"sqrt\"],\n",
        "    \"criterion\": [\"gini\", \"entropy\"]\n",
        "}"
      ],
      "metadata": {
        "id": "__uqtg-SSuSs"
      },
      "execution_count": null,
      "outputs": []
    },
    {
      "cell_type": "code",
      "source": [
        "gridsearch_dt = GridSearchCV(\n",
        "    estimator= DecisionTreeClassifier(),\n",
        "    param_grid= dt_param_grid_2,\n",
        "    cv= 5,\n",
        "    verbose= True\n",
        ")\n",
        "\n",
        "np.random.seed(31)\n",
        "gridsearch_dt.fit(X_train, y_train)"
      ],
      "metadata": {
        "colab": {
          "base_uri": "https://localhost:8080/",
          "height": 135
        },
        "id": "ah9FmFu_TjA-",
        "outputId": "2983ca31-34bb-4222-dc14-07ad201b0dbd"
      },
      "execution_count": null,
      "outputs": [
        {
          "output_type": "stream",
          "name": "stdout",
          "text": [
            "Fitting 5 folds for each of 400 candidates, totalling 2000 fits\n"
          ]
        },
        {
          "output_type": "execute_result",
          "data": {
            "text/plain": [
              "GridSearchCV(cv=5, estimator=DecisionTreeClassifier(),\n",
              "             param_grid={'criterion': ['gini', 'entropy'],\n",
              "                         'max_depth': [10, 30, 60, 100, None],\n",
              "                         'max_features': ['sqrt'],\n",
              "                         'min_samples_leaf': [5, 8, 14, 23, 29],\n",
              "                         'min_samples_split': [10, 22, 34, 46],\n",
              "                         'splitter': ['best', 'random']},\n",
              "             verbose=True)"
            ],
            "text/html": [
              "<style>#sk-container-id-3 {color: black;background-color: white;}#sk-container-id-3 pre{padding: 0;}#sk-container-id-3 div.sk-toggleable {background-color: white;}#sk-container-id-3 label.sk-toggleable__label {cursor: pointer;display: block;width: 100%;margin-bottom: 0;padding: 0.3em;box-sizing: border-box;text-align: center;}#sk-container-id-3 label.sk-toggleable__label-arrow:before {content: \"▸\";float: left;margin-right: 0.25em;color: #696969;}#sk-container-id-3 label.sk-toggleable__label-arrow:hover:before {color: black;}#sk-container-id-3 div.sk-estimator:hover label.sk-toggleable__label-arrow:before {color: black;}#sk-container-id-3 div.sk-toggleable__content {max-height: 0;max-width: 0;overflow: hidden;text-align: left;background-color: #f0f8ff;}#sk-container-id-3 div.sk-toggleable__content pre {margin: 0.2em;color: black;border-radius: 0.25em;background-color: #f0f8ff;}#sk-container-id-3 input.sk-toggleable__control:checked~div.sk-toggleable__content {max-height: 200px;max-width: 100%;overflow: auto;}#sk-container-id-3 input.sk-toggleable__control:checked~label.sk-toggleable__label-arrow:before {content: \"▾\";}#sk-container-id-3 div.sk-estimator input.sk-toggleable__control:checked~label.sk-toggleable__label {background-color: #d4ebff;}#sk-container-id-3 div.sk-label input.sk-toggleable__control:checked~label.sk-toggleable__label {background-color: #d4ebff;}#sk-container-id-3 input.sk-hidden--visually {border: 0;clip: rect(1px 1px 1px 1px);clip: rect(1px, 1px, 1px, 1px);height: 1px;margin: -1px;overflow: hidden;padding: 0;position: absolute;width: 1px;}#sk-container-id-3 div.sk-estimator {font-family: monospace;background-color: #f0f8ff;border: 1px dotted black;border-radius: 0.25em;box-sizing: border-box;margin-bottom: 0.5em;}#sk-container-id-3 div.sk-estimator:hover {background-color: #d4ebff;}#sk-container-id-3 div.sk-parallel-item::after {content: \"\";width: 100%;border-bottom: 1px solid gray;flex-grow: 1;}#sk-container-id-3 div.sk-label:hover label.sk-toggleable__label {background-color: #d4ebff;}#sk-container-id-3 div.sk-serial::before {content: \"\";position: absolute;border-left: 1px solid gray;box-sizing: border-box;top: 0;bottom: 0;left: 50%;z-index: 0;}#sk-container-id-3 div.sk-serial {display: flex;flex-direction: column;align-items: center;background-color: white;padding-right: 0.2em;padding-left: 0.2em;position: relative;}#sk-container-id-3 div.sk-item {position: relative;z-index: 1;}#sk-container-id-3 div.sk-parallel {display: flex;align-items: stretch;justify-content: center;background-color: white;position: relative;}#sk-container-id-3 div.sk-item::before, #sk-container-id-3 div.sk-parallel-item::before {content: \"\";position: absolute;border-left: 1px solid gray;box-sizing: border-box;top: 0;bottom: 0;left: 50%;z-index: -1;}#sk-container-id-3 div.sk-parallel-item {display: flex;flex-direction: column;z-index: 1;position: relative;background-color: white;}#sk-container-id-3 div.sk-parallel-item:first-child::after {align-self: flex-end;width: 50%;}#sk-container-id-3 div.sk-parallel-item:last-child::after {align-self: flex-start;width: 50%;}#sk-container-id-3 div.sk-parallel-item:only-child::after {width: 0;}#sk-container-id-3 div.sk-dashed-wrapped {border: 1px dashed gray;margin: 0 0.4em 0.5em 0.4em;box-sizing: border-box;padding-bottom: 0.4em;background-color: white;}#sk-container-id-3 div.sk-label label {font-family: monospace;font-weight: bold;display: inline-block;line-height: 1.2em;}#sk-container-id-3 div.sk-label-container {text-align: center;}#sk-container-id-3 div.sk-container {/* jupyter's `normalize.less` sets `[hidden] { display: none; }` but bootstrap.min.css set `[hidden] { display: none !important; }` so we also need the `!important` here to be able to override the default hidden behavior on the sphinx rendered scikit-learn.org. See: https://github.com/scikit-learn/scikit-learn/issues/21755 */display: inline-block !important;position: relative;}#sk-container-id-3 div.sk-text-repr-fallback {display: none;}</style><div id=\"sk-container-id-3\" class=\"sk-top-container\"><div class=\"sk-text-repr-fallback\"><pre>GridSearchCV(cv=5, estimator=DecisionTreeClassifier(),\n",
              "             param_grid={&#x27;criterion&#x27;: [&#x27;gini&#x27;, &#x27;entropy&#x27;],\n",
              "                         &#x27;max_depth&#x27;: [10, 30, 60, 100, None],\n",
              "                         &#x27;max_features&#x27;: [&#x27;sqrt&#x27;],\n",
              "                         &#x27;min_samples_leaf&#x27;: [5, 8, 14, 23, 29],\n",
              "                         &#x27;min_samples_split&#x27;: [10, 22, 34, 46],\n",
              "                         &#x27;splitter&#x27;: [&#x27;best&#x27;, &#x27;random&#x27;]},\n",
              "             verbose=True)</pre><b>In a Jupyter environment, please rerun this cell to show the HTML representation or trust the notebook. <br />On GitHub, the HTML representation is unable to render, please try loading this page with nbviewer.org.</b></div><div class=\"sk-container\" hidden><div class=\"sk-item sk-dashed-wrapped\"><div class=\"sk-label-container\"><div class=\"sk-label sk-toggleable\"><input class=\"sk-toggleable__control sk-hidden--visually\" id=\"sk-estimator-id-7\" type=\"checkbox\" ><label for=\"sk-estimator-id-7\" class=\"sk-toggleable__label sk-toggleable__label-arrow\">GridSearchCV</label><div class=\"sk-toggleable__content\"><pre>GridSearchCV(cv=5, estimator=DecisionTreeClassifier(),\n",
              "             param_grid={&#x27;criterion&#x27;: [&#x27;gini&#x27;, &#x27;entropy&#x27;],\n",
              "                         &#x27;max_depth&#x27;: [10, 30, 60, 100, None],\n",
              "                         &#x27;max_features&#x27;: [&#x27;sqrt&#x27;],\n",
              "                         &#x27;min_samples_leaf&#x27;: [5, 8, 14, 23, 29],\n",
              "                         &#x27;min_samples_split&#x27;: [10, 22, 34, 46],\n",
              "                         &#x27;splitter&#x27;: [&#x27;best&#x27;, &#x27;random&#x27;]},\n",
              "             verbose=True)</pre></div></div></div><div class=\"sk-parallel\"><div class=\"sk-parallel-item\"><div class=\"sk-item\"><div class=\"sk-label-container\"><div class=\"sk-label sk-toggleable\"><input class=\"sk-toggleable__control sk-hidden--visually\" id=\"sk-estimator-id-8\" type=\"checkbox\" ><label for=\"sk-estimator-id-8\" class=\"sk-toggleable__label sk-toggleable__label-arrow\">estimator: DecisionTreeClassifier</label><div class=\"sk-toggleable__content\"><pre>DecisionTreeClassifier()</pre></div></div></div><div class=\"sk-serial\"><div class=\"sk-item\"><div class=\"sk-estimator sk-toggleable\"><input class=\"sk-toggleable__control sk-hidden--visually\" id=\"sk-estimator-id-9\" type=\"checkbox\" ><label for=\"sk-estimator-id-9\" class=\"sk-toggleable__label sk-toggleable__label-arrow\">DecisionTreeClassifier</label><div class=\"sk-toggleable__content\"><pre>DecisionTreeClassifier()</pre></div></div></div></div></div></div></div></div></div></div>"
            ]
          },
          "metadata": {},
          "execution_count": 24
        }
      ]
    },
    {
      "cell_type": "code",
      "source": [
        "print(f\"GridSearchCV DecisionTreeClassifier model score equals: %.3f \" % (gridsearch_dt.score(X_validation, y_validation)*100))"
      ],
      "metadata": {
        "colab": {
          "base_uri": "https://localhost:8080/"
        },
        "id": "lyup7QiEUSyx",
        "outputId": "aca45eea-345d-4920-afb1-2cf968c53367"
      },
      "execution_count": null,
      "outputs": [
        {
          "output_type": "stream",
          "name": "stdout",
          "text": [
            "GridSearchCV DecisionTreeClassifier model score equals: 70.810 \n"
          ]
        }
      ]
    },
    {
      "cell_type": "code",
      "source": [
        "gridsearch_dt.best_params_"
      ],
      "metadata": {
        "colab": {
          "base_uri": "https://localhost:8080/"
        },
        "id": "ffPPdsW8UTg2",
        "outputId": "fba40489-1b79-4b35-9c44-ee79f8cd69df"
      },
      "execution_count": null,
      "outputs": [
        {
          "output_type": "execute_result",
          "data": {
            "text/plain": [
              "{'criterion': 'gini',\n",
              " 'max_depth': 30,\n",
              " 'max_features': 'sqrt',\n",
              " 'min_samples_leaf': 8,\n",
              " 'min_samples_split': 22,\n",
              " 'splitter': 'best'}"
            ]
          },
          "metadata": {},
          "execution_count": 26
        }
      ]
    },
    {
      "cell_type": "markdown",
      "source": [
        "##### `RandomForestClassifier()`"
      ],
      "metadata": {
        "id": "j1p3DIdNR_Sq"
      }
    },
    {
      "cell_type": "code",
      "source": [
        "for key, value in rf_param_grid.items():\n",
        "  print(f\"{key}: {value}\")"
      ],
      "metadata": {
        "id": "fS-EbfuDWi_k",
        "colab": {
          "base_uri": "https://localhost:8080/"
        },
        "outputId": "7c6bfb12-06a4-4dfc-b542-fb78061f197a"
      },
      "execution_count": null,
      "outputs": [
        {
          "output_type": "stream",
          "name": "stdout",
          "text": [
            "bootstrap: [True, False]\n",
            "max_depth: [10, 20, 30, 40, 50, 60, 70, 80, 90, 100, None]\n",
            "max_features: ['auto', 'sqrt']\n",
            "min_samples_leaf: range(2, 30, 3)\n",
            "min_samples_split: range(2, 50, 4)\n",
            "n_estimators: [64, 128, 200, 256, 400, 600, 800, 1000, 1200, 1400, 1600, 1800, 2000]\n",
            "warm_start: [True, False]\n"
          ]
        }
      ]
    },
    {
      "cell_type": "code",
      "source": [
        "for key, value in randsearch_rf.best_params_.items():\n",
        "  print(f\"{key}: {value}\")"
      ],
      "metadata": {
        "colab": {
          "base_uri": "https://localhost:8080/"
        },
        "id": "_8Ekw83LqgFn",
        "outputId": "8d14e1eb-d952-4aef-a3cb-c4f092e12248"
      },
      "execution_count": null,
      "outputs": [
        {
          "output_type": "stream",
          "name": "stdout",
          "text": [
            "warm_start: True\n",
            "n_estimators: 1800\n",
            "min_samples_split: 18\n",
            "min_samples_leaf: 5\n",
            "max_features: sqrt\n",
            "max_depth: 40\n",
            "bootstrap: False\n"
          ]
        }
      ]
    },
    {
      "cell_type": "code",
      "source": [
        "rf_param_grid_2 = {\n",
        "    \"bootstrap\": [True],\n",
        "    \"max_depth\": [None, 10, 40, 80],\n",
        "    \"max_features\": [\"sqrt\"],\n",
        "    \"min_samples_leaf\": [2, 5, 14, 20],\n",
        "    \"min_samples_split\": [2, 6, 18, 42],\n",
        "    \"n_estimators\": [128, 256, 800, 1200],\n",
        "    \"warm_start\": [True]    \n",
        "}"
      ],
      "metadata": {
        "id": "NwAjvfPHvYVq"
      },
      "execution_count": null,
      "outputs": []
    },
    {
      "cell_type": "code",
      "source": [
        "gridsearch_rf = GridSearchCV(\n",
        "    estimator= RandomForestClassifier(),\n",
        "    param_grid= rf_param_grid_2,\n",
        "    cv= 5,\n",
        "    verbose= True\n",
        ")\n",
        "np.random.seed(31)\n",
        "gridsearch_rf.fit(X_train, y_train)"
      ],
      "metadata": {
        "colab": {
          "base_uri": "https://localhost:8080/"
        },
        "id": "cqY5s2Cipvwz",
        "outputId": "7111713e-561d-4770-ca1d-67c6a4532611"
      },
      "execution_count": null,
      "outputs": [
        {
          "output_type": "stream",
          "name": "stdout",
          "text": [
            "Fitting 5 folds for each of 256 candidates, totalling 1280 fits\n"
          ]
        },
        {
          "output_type": "execute_result",
          "data": {
            "text/plain": [
              "GridSearchCV(cv=5, estimator=RandomForestClassifier(),\n",
              "             param_grid={'bootstrap': [True], 'max_depth': [None, 10, 40, 80],\n",
              "                         'max_features': ['sqrt'],\n",
              "                         'min_samples_leaf': [2, 5, 14, 20],\n",
              "                         'min_samples_split': [2, 6, 18, 42],\n",
              "                         'n_estimators': [128, 256, 800, 1200],\n",
              "                         'warm_start': [True]},\n",
              "             verbose=True)"
            ],
            "text/html": [
              "<style>#sk-container-id-4 {color: black;background-color: white;}#sk-container-id-4 pre{padding: 0;}#sk-container-id-4 div.sk-toggleable {background-color: white;}#sk-container-id-4 label.sk-toggleable__label {cursor: pointer;display: block;width: 100%;margin-bottom: 0;padding: 0.3em;box-sizing: border-box;text-align: center;}#sk-container-id-4 label.sk-toggleable__label-arrow:before {content: \"▸\";float: left;margin-right: 0.25em;color: #696969;}#sk-container-id-4 label.sk-toggleable__label-arrow:hover:before {color: black;}#sk-container-id-4 div.sk-estimator:hover label.sk-toggleable__label-arrow:before {color: black;}#sk-container-id-4 div.sk-toggleable__content {max-height: 0;max-width: 0;overflow: hidden;text-align: left;background-color: #f0f8ff;}#sk-container-id-4 div.sk-toggleable__content pre {margin: 0.2em;color: black;border-radius: 0.25em;background-color: #f0f8ff;}#sk-container-id-4 input.sk-toggleable__control:checked~div.sk-toggleable__content {max-height: 200px;max-width: 100%;overflow: auto;}#sk-container-id-4 input.sk-toggleable__control:checked~label.sk-toggleable__label-arrow:before {content: \"▾\";}#sk-container-id-4 div.sk-estimator input.sk-toggleable__control:checked~label.sk-toggleable__label {background-color: #d4ebff;}#sk-container-id-4 div.sk-label input.sk-toggleable__control:checked~label.sk-toggleable__label {background-color: #d4ebff;}#sk-container-id-4 input.sk-hidden--visually {border: 0;clip: rect(1px 1px 1px 1px);clip: rect(1px, 1px, 1px, 1px);height: 1px;margin: -1px;overflow: hidden;padding: 0;position: absolute;width: 1px;}#sk-container-id-4 div.sk-estimator {font-family: monospace;background-color: #f0f8ff;border: 1px dotted black;border-radius: 0.25em;box-sizing: border-box;margin-bottom: 0.5em;}#sk-container-id-4 div.sk-estimator:hover {background-color: #d4ebff;}#sk-container-id-4 div.sk-parallel-item::after {content: \"\";width: 100%;border-bottom: 1px solid gray;flex-grow: 1;}#sk-container-id-4 div.sk-label:hover label.sk-toggleable__label {background-color: #d4ebff;}#sk-container-id-4 div.sk-serial::before {content: \"\";position: absolute;border-left: 1px solid gray;box-sizing: border-box;top: 0;bottom: 0;left: 50%;z-index: 0;}#sk-container-id-4 div.sk-serial {display: flex;flex-direction: column;align-items: center;background-color: white;padding-right: 0.2em;padding-left: 0.2em;position: relative;}#sk-container-id-4 div.sk-item {position: relative;z-index: 1;}#sk-container-id-4 div.sk-parallel {display: flex;align-items: stretch;justify-content: center;background-color: white;position: relative;}#sk-container-id-4 div.sk-item::before, #sk-container-id-4 div.sk-parallel-item::before {content: \"\";position: absolute;border-left: 1px solid gray;box-sizing: border-box;top: 0;bottom: 0;left: 50%;z-index: -1;}#sk-container-id-4 div.sk-parallel-item {display: flex;flex-direction: column;z-index: 1;position: relative;background-color: white;}#sk-container-id-4 div.sk-parallel-item:first-child::after {align-self: flex-end;width: 50%;}#sk-container-id-4 div.sk-parallel-item:last-child::after {align-self: flex-start;width: 50%;}#sk-container-id-4 div.sk-parallel-item:only-child::after {width: 0;}#sk-container-id-4 div.sk-dashed-wrapped {border: 1px dashed gray;margin: 0 0.4em 0.5em 0.4em;box-sizing: border-box;padding-bottom: 0.4em;background-color: white;}#sk-container-id-4 div.sk-label label {font-family: monospace;font-weight: bold;display: inline-block;line-height: 1.2em;}#sk-container-id-4 div.sk-label-container {text-align: center;}#sk-container-id-4 div.sk-container {/* jupyter's `normalize.less` sets `[hidden] { display: none; }` but bootstrap.min.css set `[hidden] { display: none !important; }` so we also need the `!important` here to be able to override the default hidden behavior on the sphinx rendered scikit-learn.org. See: https://github.com/scikit-learn/scikit-learn/issues/21755 */display: inline-block !important;position: relative;}#sk-container-id-4 div.sk-text-repr-fallback {display: none;}</style><div id=\"sk-container-id-4\" class=\"sk-top-container\"><div class=\"sk-text-repr-fallback\"><pre>GridSearchCV(cv=5, estimator=RandomForestClassifier(),\n",
              "             param_grid={&#x27;bootstrap&#x27;: [True], &#x27;max_depth&#x27;: [None, 10, 40, 80],\n",
              "                         &#x27;max_features&#x27;: [&#x27;sqrt&#x27;],\n",
              "                         &#x27;min_samples_leaf&#x27;: [2, 5, 14, 20],\n",
              "                         &#x27;min_samples_split&#x27;: [2, 6, 18, 42],\n",
              "                         &#x27;n_estimators&#x27;: [128, 256, 800, 1200],\n",
              "                         &#x27;warm_start&#x27;: [True]},\n",
              "             verbose=True)</pre><b>In a Jupyter environment, please rerun this cell to show the HTML representation or trust the notebook. <br />On GitHub, the HTML representation is unable to render, please try loading this page with nbviewer.org.</b></div><div class=\"sk-container\" hidden><div class=\"sk-item sk-dashed-wrapped\"><div class=\"sk-label-container\"><div class=\"sk-label sk-toggleable\"><input class=\"sk-toggleable__control sk-hidden--visually\" id=\"sk-estimator-id-10\" type=\"checkbox\" ><label for=\"sk-estimator-id-10\" class=\"sk-toggleable__label sk-toggleable__label-arrow\">GridSearchCV</label><div class=\"sk-toggleable__content\"><pre>GridSearchCV(cv=5, estimator=RandomForestClassifier(),\n",
              "             param_grid={&#x27;bootstrap&#x27;: [True], &#x27;max_depth&#x27;: [None, 10, 40, 80],\n",
              "                         &#x27;max_features&#x27;: [&#x27;sqrt&#x27;],\n",
              "                         &#x27;min_samples_leaf&#x27;: [2, 5, 14, 20],\n",
              "                         &#x27;min_samples_split&#x27;: [2, 6, 18, 42],\n",
              "                         &#x27;n_estimators&#x27;: [128, 256, 800, 1200],\n",
              "                         &#x27;warm_start&#x27;: [True]},\n",
              "             verbose=True)</pre></div></div></div><div class=\"sk-parallel\"><div class=\"sk-parallel-item\"><div class=\"sk-item\"><div class=\"sk-label-container\"><div class=\"sk-label sk-toggleable\"><input class=\"sk-toggleable__control sk-hidden--visually\" id=\"sk-estimator-id-11\" type=\"checkbox\" ><label for=\"sk-estimator-id-11\" class=\"sk-toggleable__label sk-toggleable__label-arrow\">estimator: RandomForestClassifier</label><div class=\"sk-toggleable__content\"><pre>RandomForestClassifier()</pre></div></div></div><div class=\"sk-serial\"><div class=\"sk-item\"><div class=\"sk-estimator sk-toggleable\"><input class=\"sk-toggleable__control sk-hidden--visually\" id=\"sk-estimator-id-12\" type=\"checkbox\" ><label for=\"sk-estimator-id-12\" class=\"sk-toggleable__label sk-toggleable__label-arrow\">RandomForestClassifier</label><div class=\"sk-toggleable__content\"><pre>RandomForestClassifier()</pre></div></div></div></div></div></div></div></div></div></div>"
            ]
          },
          "metadata": {},
          "execution_count": 30
        }
      ]
    },
    {
      "cell_type": "code",
      "source": [
        "print(f\"GridSearchCV RandomForestClassifier model score equals: %.3f \" % (gridsearch_rf.score(X_validation, y_validation)*100))"
      ],
      "metadata": {
        "id": "MnvBiwBepyXb",
        "colab": {
          "base_uri": "https://localhost:8080/"
        },
        "outputId": "a7150c37-c06b-4448-8b0c-3ac68f25c999"
      },
      "execution_count": null,
      "outputs": [
        {
          "output_type": "stream",
          "name": "stdout",
          "text": [
            "GridSearchCV RandomForestClassifier model score equals: 81.356 \n"
          ]
        }
      ]
    },
    {
      "cell_type": "code",
      "source": [
        "for key, value in gridsearch_rf.best_params_.items():\n",
        "  print(f\"{key}: {value}\")"
      ],
      "metadata": {
        "colab": {
          "base_uri": "https://localhost:8080/"
        },
        "id": "1asV1Mhj1v_S",
        "outputId": "6f49f577-3ab0-4176-f160-f680ebeba51f"
      },
      "execution_count": null,
      "outputs": [
        {
          "output_type": "stream",
          "name": "stdout",
          "text": [
            "bootstrap: True\n",
            "max_depth: None\n",
            "max_features: sqrt\n",
            "min_samples_leaf: 2\n",
            "min_samples_split: 6\n",
            "n_estimators: 800\n",
            "warm_start: True\n"
          ]
        }
      ]
    },
    {
      "cell_type": "markdown",
      "source": [
        "## Evaluation\n",
        "\n",
        "Next step is evaluating the models. We will do it via these measures:\n",
        "- ROC Curve and AUC score\n",
        "- Confusion matrix\n",
        "- Classification report\n",
        "- Accuracy\n",
        "- Precision\n",
        "- Recall\n",
        "- F1-score\n",
        "\n",
        "First three of them can be done on the `best_estimator` models found in our searches. \n",
        "\n",
        "The last four however will be done differently - we will have to create new instances of these models, with hyperparameters found through `RandomizedSearchCV()` and `GridSearchCV()`. Next, we will define a function to test the metrics using the `cross_val_score` and we will check their performance, and in the end choose, fit and use the best one of them to make predictions on the test set provided by Kaggle."
      ],
      "metadata": {
        "id": "T-z-FVoGU8sg"
      }
    },
    {
      "cell_type": "markdown",
      "source": [
        "### ROC Curve an AUC score\n"
      ],
      "metadata": {
        "id": "0sDCAUBNzkGP"
      }
    },
    {
      "cell_type": "markdown",
      "source": [
        "#### `DecisionTreeClassifier()`"
      ],
      "metadata": {
        "id": "B4nf3B6jUw9j"
      }
    },
    {
      "cell_type": "code",
      "source": [
        "y_randsearch_dt_preds = randsearch_dt.best_estimator_.predict_proba(X_validation)[::,1]\n",
        "y_gridsearch_dt_preds = gridsearch_dt.best_estimator_.predict_proba(X_validation)[::,1]\n",
        "\n",
        "evaluated_dt_models = {\n",
        "    \"RandomizedSearchCV model\": randsearch_dt.best_estimator_,\n",
        "    \"GridSearchCV model\": gridsearch_dt.best_estimator_\n",
        "}\n"
      ],
      "metadata": {
        "id": "v4aFJxqIU1YT"
      },
      "execution_count": null,
      "outputs": []
    },
    {
      "cell_type": "code",
      "source": [
        "# Plotting the ROC Curve\n",
        "\n",
        "randsearch_dt_fpr, randsearch_dt_tpr, randsearch_dt_threshold = roc_curve(y_validation, y_randsearch_dt_preds)\n",
        "gridsearch_dt_fpr, gridsearch_dt_tpr, gridsearch_dt_threshold = roc_curve(y_validation, y_gridsearch_dt_preds)\n",
        "\n",
        "randsearch_dt_auc = auc(randsearch_dt_fpr, randsearch_dt_tpr)\n",
        "gridsearch_dt_auc = auc(gridsearch_dt_fpr, gridsearch_dt_tpr)\n",
        "\n",
        "fig, ax = plt.subplots()\n",
        "plt.title(\"Receiver Operating Characteristic for DecisionTreeClassifier\")\n",
        "plt.plot(randsearch_dt_fpr, randsearch_dt_tpr, label=\"RandomizedSearchCV AUC = %0.3f\"%(randsearch_dt_auc*100), color=\"tab:green\")\n",
        "plt.plot(gridsearch_dt_fpr, gridsearch_dt_tpr, label=\"GridSearchCV AUC = %0.3f\"%(gridsearch_dt_auc*100), color=\"tab:orange\")\n",
        "plt.legend(loc=\"lower right\");\n"
      ],
      "metadata": {
        "colab": {
          "base_uri": "https://localhost:8080/"
        },
        "id": "sgQvsxe9U9Wi",
        "outputId": "cfbb1e31-21cd-4cce-dc25-9cf54acd2e91"
      },
      "execution_count": null,
      "outputs": [
        {
          "output_type": "display_data",
          "data": {
            "text/plain": [
              "<Figure size 432x288 with 1 Axes>"
            ],
            "image/png": "[encoded data removed]"
          },
          "metadata": {
            "needs_background": "light"
          }
        }
      ]
    },
    {
      "cell_type": "markdown",
      "source": [
        "#### `RandomForrestClassifier()`"
      ],
      "metadata": {
        "id": "Z83cFhOWUsUI"
      }
    },
    {
      "cell_type": "code",
      "source": [
        "y_randsearch_rf_preds = randsearch_rf.best_estimator_.predict_proba(X_validation)[::,1]\n",
        "y_gridsearch_rf_preds = gridsearch_rf.best_estimator_.predict_proba(X_validation)[::,1]\n",
        "\n",
        "evaluated_rf_models = {\n",
        "    \"RandomizedSearchCV model\": randsearch_rf.best_estimator_,\n",
        "    \"GridSearchCV model\": gridsearch_rf.best_estimator_\n",
        "}\n"
      ],
      "metadata": {
        "id": "l-pSkRvTrN9J"
      },
      "execution_count": null,
      "outputs": []
    },
    {
      "cell_type": "code",
      "source": [
        "# Plotting the ROC Curve\n",
        "\n",
        "randsearch_rf_fpr, randsearch_rf_tpr, randsearch_rf_threshold = roc_curve(y_validation, y_randsearch_rf_preds)\n",
        "gridsearch_rf_fpr, gridsearch_rf_tpr, gridsearch_rf_threshold = roc_curve(y_validation, y_gridsearch_rf_preds)\n",
        "\n",
        "randsearch_rf_auc = auc(randsearch_rf_fpr, randsearch_rf_tpr)\n",
        "gridsearch_rf_auc = auc(gridsearch_rf_fpr, gridsearch_rf_tpr)\n",
        "\n",
        "fig, ax = plt.subplots()\n",
        "plt.title(\"Receiver Operating Characteristic for RandomForestClassifier\")\n",
        "plt.plot(randsearch_rf_fpr, randsearch_rf_tpr, label=\"RandomizedSearchCV AUC = %0.3f\"%(randsearch_rf_auc*100), color=\"tab:green\")\n",
        "plt.plot(gridsearch_rf_fpr, gridsearch_rf_tpr, label=\"GridSearchCV AUC = %0.3f\"%(gridsearch_rf_auc*100), color=\"tab:orange\")\n",
        "plt.legend(loc=\"lower right\");\n"
      ],
      "metadata": {
        "colab": {
          "base_uri": "https://localhost:8080/"
        },
        "id": "8VR7Har60hrE",
        "outputId": "8899ed3d-e792-452a-e779-02bb9c6657af"
      },
      "execution_count": null,
      "outputs": [
        {
          "output_type": "display_data",
          "data": {
            "text/plain": [
              "<Figure size 432x288 with 1 Axes>"
            ],
            "image/png": "[encoded data removed]"
          },
          "metadata": {
            "needs_background": "light"
          }
        }
      ]
    },
    {
      "cell_type": "markdown",
      "source": [
        "### Confusion Matrix"
      ],
      "metadata": {
        "id": "U4AsLVBz4yVh"
      }
    },
    {
      "cell_type": "markdown",
      "source": [
        "#### `DecisionTreeClassifier()`"
      ],
      "metadata": {
        "id": "cRp4tq_8WdEp"
      }
    },
    {
      "cell_type": "code",
      "source": [
        "def plot_conf_mat(y_test, y_preds, name):\n",
        "  fig, ax = plt.subplots()\n",
        "  ax = sns.heatmap(confusion_matrix(y_test, y_preds), annot=True, cbar=False)\n",
        "  plt.title(\"DecisionTreeClassifier \"+ name)\n",
        "  plt.xlabel(\"Model predictions\")\n",
        "  plt.ylabel(\"True Labels\")\n",
        "\n",
        "for name, model in evaluated_dt_models.items():\n",
        "  plot_conf_mat(y_validation, model.predict(X_validation), name)"
      ],
      "metadata": {
        "colab": {
          "base_uri": "https://localhost:8080/"
        },
        "id": "FkIFL519Wi7M",
        "outputId": "0cacdb0f-180f-436b-efa3-2ef7e6b1fff6"
      },
      "execution_count": null,
      "outputs": [
        {
          "output_type": "display_data",
          "data": {
            "text/plain": [
              "<Figure size 432x288 with 1 Axes>"
            ],
            "image/png": "[encoded data removed]"
          },
          "metadata": {
            "needs_background": "light"
          }
        },
        {
          "output_type": "display_data",
          "data": {
            "text/plain": [
              "<Figure size 432x288 with 1 Axes>"
            ],
            "image/png": "[encoded data removed]"
          },
          "metadata": {
            "needs_background": "light"
          }
        }
      ]
    },
    {
      "cell_type": "markdown",
      "source": [
        "#### `RandomForestClassifier()`"
      ],
      "metadata": {
        "id": "_3QfPCzqWX6e"
      }
    },
    {
      "cell_type": "code",
      "source": [
        "def plot_conf_mat(y_test, y_preds, name):\n",
        "  fig, ax = plt.subplots()\n",
        "  ax = sns.heatmap(confusion_matrix(y_test, y_preds), annot=True, cbar=False)\n",
        "  plt.title(\"RandomForestClassifier \"+ name)\n",
        "  plt.xlabel(\"Model predictions\")\n",
        "  plt.ylabel(\"True Labels\")\n",
        "\n",
        "for name, model in evaluated_rf_models.items():\n",
        "  plot_conf_mat(y_validation, model.predict(X_validation), name)"
      ],
      "metadata": {
        "colab": {
          "base_uri": "https://localhost:8080/"
        },
        "id": "C3kLSHcE2vIM",
        "outputId": "4d523660-68b6-4d2f-d153-5ad7fa168a50"
      },
      "execution_count": null,
      "outputs": [
        {
          "output_type": "display_data",
          "data": {
            "text/plain": [
              "<Figure size 432x288 with 1 Axes>"
            ],
            "image/png": "[encoded data removed]"
          },
          "metadata": {
            "needs_background": "light"
          }
        },
        {
          "output_type": "display_data",
          "data": {
            "text/plain": [
              "<Figure size 432x288 with 1 Axes>"
            ],
            "image/png": "[encoded data removed]"
          },
          "metadata": {
            "needs_background": "light"
          }
        }
      ]
    },
    {
      "cell_type": "markdown",
      "source": [
        "###Classification Report"
      ],
      "metadata": {
        "id": "1xfTh5iZ41SS"
      }
    },
    {
      "cell_type": "markdown",
      "source": [
        "#### `DecisionTreeClassifier()`"
      ],
      "metadata": {
        "id": "xCd_hk3pXKbE"
      }
    },
    {
      "cell_type": "code",
      "source": [
        "for name, model in evaluated_dt_models.items():\n",
        "  print(f\"Classification report for DecisionTreeClassifier() {name}:\\n\\n{classification_report(y_validation, model.predict(X_validation))}\")"
      ],
      "metadata": {
        "colab": {
          "base_uri": "https://localhost:8080/"
        },
        "id": "EUfMI0kLXTyU",
        "outputId": "d56a7bb6-62d2-4ce2-a559-ef961d9f4936"
      },
      "execution_count": null,
      "outputs": [
        {
          "output_type": "stream",
          "name": "stdout",
          "text": [
            "Classification report for DecisionTreeClassifier() RandomizedSearchCV model:\n",
            "\n",
            "              precision    recall  f1-score   support\n",
            "\n",
            "           0       0.75      0.81      0.78       310\n",
            "           1       0.70      0.62      0.66       221\n",
            "\n",
            "    accuracy                           0.73       531\n",
            "   macro avg       0.72      0.72      0.72       531\n",
            "weighted avg       0.73      0.73      0.73       531\n",
            "\n",
            "Classification report for DecisionTreeClassifier() GridSearchCV model:\n",
            "\n",
            "              precision    recall  f1-score   support\n",
            "\n",
            "           0       0.71      0.84      0.77       310\n",
            "           1       0.70      0.52      0.60       221\n",
            "\n",
            "    accuracy                           0.71       531\n",
            "   macro avg       0.71      0.68      0.68       531\n",
            "weighted avg       0.71      0.71      0.70       531\n",
            "\n"
          ]
        }
      ]
    },
    {
      "cell_type": "markdown",
      "source": [
        "#### `RandomForestClasiifier()`"
      ],
      "metadata": {
        "id": "6NUHnv5gXKJH"
      }
    },
    {
      "cell_type": "code",
      "source": [
        "for name, model in evaluated_rf_models.items():\n",
        "  print(f\"Classification report for RandomForestClassifier() {name}:\\n\\n{classification_report(y_validation, model.predict(X_validation))}\")"
      ],
      "metadata": {
        "colab": {
          "base_uri": "https://localhost:8080/"
        },
        "id": "uYm3b9zw4Dyz",
        "outputId": "1f3f2c3f-5899-4433-d771-b6e6c78ec3af"
      },
      "execution_count": null,
      "outputs": [
        {
          "output_type": "stream",
          "name": "stdout",
          "text": [
            "Classification report for RandomForestClassifier() RandomizedSearchCV model:\n",
            "\n",
            "              precision    recall  f1-score   support\n",
            "\n",
            "           0       0.78      0.95      0.86       310\n",
            "           1       0.90      0.62      0.74       221\n",
            "\n",
            "    accuracy                           0.82       531\n",
            "   macro avg       0.84      0.79      0.80       531\n",
            "weighted avg       0.83      0.82      0.81       531\n",
            "\n",
            "Classification report for RandomForestClassifier() GridSearchCV model:\n",
            "\n",
            "              precision    recall  f1-score   support\n",
            "\n",
            "           0       0.79      0.94      0.85       310\n",
            "           1       0.88      0.64      0.74       221\n",
            "\n",
            "    accuracy                           0.81       531\n",
            "   macro avg       0.83      0.79      0.80       531\n",
            "weighted avg       0.82      0.81      0.81       531\n",
            "\n"
          ]
        }
      ]
    },
    {
      "cell_type": "markdown",
      "source": [
        "### Cross-Validated Metrics\n",
        "\n",
        "We will start by definig two functions - one that will run all necessary evaluation metrics on new instances of the `DecisionTreeClassifier()` and `RandomizedSearchCV()` models and the second one that will plot these metrics as bar plots."
      ],
      "metadata": {
        "id": "FGtzIHd3X1zN"
      }
    },
    {
      "cell_type": "code",
      "source": [
        "def cross_val_metrics(model, X, y):\n",
        "    \"\"\"This function takes a model and measures it's performance through cross validation\"\"\"\n",
        "    cv_results = {}\n",
        "    cv_results[\"Accuracy\"] = np.mean(cross_val_score(model, X, y, cv= 5, scoring= \"accuracy\"))\n",
        "    cv_results[\"Precision\"] = np.mean(cross_val_score(model, X, y, cv=5, scoring=\"precision\"))\n",
        "    cv_results[\"Recall\"] = np.mean(cross_val_score(model, X, y, cv=5, scoring=\"recall\"))\n",
        "    cv_results[\"F1-score\"] = np.mean(cross_val_score(model, X, y, cv=5, scoring=\"f1\"))\n",
        "\n",
        "    return pd.DataFrame(cv_results, index=[0])\n",
        "\n",
        "def plot_cv_metrics(estimators_dict, X, y):\n",
        "  idx = 0\n",
        "  for name, estimator in estimators_dict.items():\n",
        "    cross_val_scores = cross_val_metrics(estimator, X, y)\n",
        "    fig, ax = plt.subplots(figsize=(7, 5))\n",
        "    plt.bar(x=cross_val_scores.columns, height=cross_val_scores.values[0], width=0.5, color=colors[idx])\n",
        "    plt.title(f\"Cross-validated scores of {name}\")\n",
        "    for container in ax.containers:\n",
        "      ax.bar_label(container)\n",
        "    idx +=1"
      ],
      "metadata": {
        "id": "5ShNrsxo4bV_"
      },
      "execution_count": null,
      "outputs": []
    },
    {
      "cell_type": "markdown",
      "source": [
        "##### Instantiating new estimators\n",
        "\n",
        "Here we create two dictionaries of estimators - dt (DecisionTreeClassifiers) and rf (RandomForestClassifiers) which will be used in order to run `plot_cv_metrics` and which in turn will run `cross_val_metrics`.  "
      ],
      "metadata": {
        "id": "V0CjFwUU40T6"
      }
    },
    {
      "cell_type": "code",
      "source": [
        "dt_estimators_dict = {\n",
        "    \"Default DecisionTree\": DecisionTreeClassifier(),\n",
        "    \"RandomizedSearch DecisionTree\": DecisionTreeClassifier(\n",
        "        splitter= \"best\",\n",
        "        min_samples_split= 46,\n",
        "        min_samples_leaf= 14,\n",
        "        max_features= \"sqrt\",\n",
        "        max_depth= 60,\n",
        "        criterion= \"gini\"\n",
        "    ),\n",
        "    \"GridSearch DecisionTree\": DecisionTreeClassifier(\n",
        "        criterion= 'gini',\n",
        "        max_depth= 100,\n",
        "        max_features= 'sqrt',\n",
        "        min_samples_leaf= 14,\n",
        "        min_samples_split= 46,\n",
        "        splitter= 'best'\n",
        "    )\n",
        "}\n",
        "rf_estimators_dict = {\n",
        "    \"Default RandomForest\": RandomForestClassifier(),\n",
        "    \"RandomizedSearch RandomForest\": RandomForestClassifier(\n",
        "        warm_start= True,\n",
        "        n_estimators= 1200,\n",
        "        min_samples_split= 6,\n",
        "        min_samples_leaf= 5,\n",
        "        max_features= \"sqrt\",\n",
        "        max_depth= None,\n",
        "        bootstrap= True\n",
        "    ),\n",
        "    \"GridSearch RandomForest\": RandomForestClassifier(\n",
        "        bootstrap= True,\n",
        "        max_depth= None,\n",
        "        max_features= \"sqrt\",\n",
        "        min_samples_leaf= 2,\n",
        "        min_samples_split= 2,\n",
        "        n_estimators= 1200,\n",
        "        warm_start= True\n",
        "    )\n",
        "}\n",
        "\n",
        "colors = [\"tab:green\", \"tab:orange\", \"tab:blue\"]\n"
      ],
      "metadata": {
        "id": "V-x4uWWLZHq8"
      },
      "execution_count": null,
      "outputs": []
    },
    {
      "cell_type": "markdown",
      "source": [
        "##### Cross-validated metrics of `DecisionTree()` estimators"
      ],
      "metadata": {
        "id": "-FI08iNO5mFX"
      }
    },
    {
      "cell_type": "code",
      "source": [
        "plot_cv_metrics(dt_estimators_dict, X, y)"
      ],
      "metadata": {
        "colab": {
          "base_uri": "https://localhost:8080/"
        },
        "id": "70EtsxaA1qzC",
        "outputId": "981015cd-624f-431b-81a1-66a638758409"
      },
      "execution_count": null,
      "outputs": [
        {
          "output_type": "display_data",
          "data": {
            "text/plain": [
              "<Figure size 504x360 with 1 Axes>"
            ],
            "image/png": "[encoded data removed]"
          },
          "metadata": {
            "needs_background": "light"
          }
        },
        {
          "output_type": "display_data",
          "data": {
            "text/plain": [
              "<Figure size 504x360 with 1 Axes>"
            ],
            "image/png": "[encoded data removed]"
          },
          "metadata": {
            "needs_background": "light"
          }
        },
        {
          "output_type": "display_data",
          "data": {
            "text/plain": [
              "<Figure size 504x360 with 1 Axes>"
            ],
            "image/png": "[encoded data removed]"
          },
          "metadata": {
            "needs_background": "light"
          }
        }
      ]
    },
    {
      "cell_type": "markdown",
      "source": [
        "##### Cross-validated metrics of `RandomForestClassifier()` estimators"
      ],
      "metadata": {
        "id": "lrq142Cz50PT"
      }
    },
    {
      "cell_type": "code",
      "source": [
        "plot_cv_metrics(rf_estimators_dict, X, y)"
      ],
      "metadata": {
        "colab": {
          "base_uri": "https://localhost:8080/",
          "height": 974
        },
        "id": "ez--MdgQ30e3",
        "outputId": "fbdd07ba-b84f-42b1-f775-5e80009c291a"
      },
      "execution_count": null,
      "outputs": [
        {
          "output_type": "display_data",
          "data": {
            "text/plain": [
              "<Figure size 504x360 with 1 Axes>"
            ],
            "image/png": "[encoded data removed]"
          },
          "metadata": {
            "needs_background": "light"
          }
        },
        {
          "output_type": "display_data",
          "data": {
            "text/plain": [
              "<Figure size 504x360 with 1 Axes>"
            ],
            "image/png": "[encoded data removed]"
          },
          "metadata": {
            "needs_background": "light"
          }
        },
        {
          "output_type": "display_data",
          "data": {
            "text/plain": [
              "<Figure size 504x360 with 1 Axes>"
            ],
            "image/png": "[encoded data removed]"
          },
          "metadata": {
            "needs_background": "light"
          }
        }
      ]
    },
    {
      "cell_type": "markdown",
      "source": [
        "## Feature Importances\n",
        "After all the experimentation and calculating different metrics I think it's best to go with the `GridSearchCV()` version of the `RandomForestClassifier()`. We will recreate it for the last time, fit it on the whole data set and we can as one final attempt at improving it see which features were the least important."
      ],
      "metadata": {
        "id": "fBA9WQ9X9VRv"
      }
    },
    {
      "cell_type": "code",
      "source": [
        "random_forest_clf = rf_estimators_dict[\"GridSearch RandomForest\"]\n",
        "random_forest_clf.fit(X, y)\n",
        "fig, ax = plt.subplots(figsize=(10, 5))\n",
        "plt.bar(x=X.columns, height=random_forest_clf.feature_importances_, width=0.5, color=\"tab:green\")\n",
        "plt.title(\"Feature Importances for the GridSearch RandomForestClassifier\")\n",
        "for container in ax.containers:\n",
        "  ax.bar_label(container)\n"
      ],
      "metadata": {
        "colab": {
          "base_uri": "https://localhost:8080/"
        },
        "id": "7hGysE9336Ho",
        "outputId": "9ee4f27b-13bd-4326-e178-00b8846150c8"
      },
      "execution_count": null,
      "outputs": [
        {
          "output_type": "display_data",
          "data": {
            "text/plain": [
              "<Figure size 720x360 with 1 Axes>"
            ],
            "image/png": "[encoded data removed]"
          },
          "metadata": {
            "needs_background": "light"
          }
        }
      ]
    },
    {
      "cell_type": "markdown",
      "source": [
        "Judging by this plot we could attempt to do one final round of experimentation on this model by recreating the X set without the \"Embarked\", \"Parch\" and \"SibSp\" columns... Let's try it out now \n",
        "\n",
        "### Testing the \"leaner\" DataFrame"
      ],
      "metadata": {
        "id": "bv062V8h-fHJ"
      }
    },
    {
      "cell_type": "code",
      "source": [
        "rf_estimators_dict = {\n",
        "    \"Default RandomForest\": RandomForestClassifier(),\n",
        "    \"RandomizedSearch RandomForest\": RandomForestClassifier(\n",
        "        warm_start= True,\n",
        "        n_estimators= 1200,\n",
        "        min_samples_split= 6,\n",
        "        min_samples_leaf= 5,\n",
        "        max_features= \"sqrt\",\n",
        "        max_depth= None,\n",
        "        bootstrap= True\n",
        "    ),\n",
        "    \"GridSearch RandomForest\": RandomForestClassifier(\n",
        "        bootstrap= True,\n",
        "        max_depth= None,\n",
        "        max_features= \"sqrt\",\n",
        "        min_samples_leaf= 2,\n",
        "        min_samples_split= 2,\n",
        "        n_estimators= 1200,\n",
        "        warm_start= True\n",
        "    )\n",
        "}\n",
        "\n",
        "new_X = X.drop(columns=[\"Embarked\", \"Parch\", \"SibSp\"], axis=1)\n",
        "new_y = y\n",
        "\n",
        "np.random.seed(31)\n",
        "new_X_train, new_X_validation, new_y_train, new_y_validation = train_test_split(new_X, new_y, train_size=0.25)\n",
        "\n",
        "for name, estimator in rf_estimators_dict.items():\n",
        "  clf = estimator\n",
        "  clf.fit(new_X_train, new_y_train)\n",
        "  print(f\"Accuracy score of the {name} equals: %.3f \\n\\n\"% (clf.score(new_X_validation, new_y_validation)*100) )\n",
        "  \n"
      ],
      "metadata": {
        "colab": {
          "base_uri": "https://localhost:8080/"
        },
        "id": "PX7nua3X-Drd",
        "outputId": "df73df78-ecfe-4a09-bc63-36672ca9e2e8"
      },
      "execution_count": null,
      "outputs": [
        {
          "output_type": "stream",
          "name": "stdout",
          "text": [
            "Accuracy score of the Default RandomForest equals: 79.849 \n",
            "\n",
            "\n",
            "Accuracy score of the RandomizedSearch RandomForest equals: 80.603 \n",
            "\n",
            "\n",
            "Accuracy score of the GridSearch RandomForest equals: 80.414 \n",
            "\n",
            "\n"
          ]
        }
      ]
    },
    {
      "cell_type": "code",
      "source": [
        "plot_cv_metrics(rf_estimators_dict, new_X, new_y)"
      ],
      "metadata": {
        "colab": {
          "base_uri": "https://localhost:8080/",
          "height": 974
        },
        "id": "ZzrvZlTw_7fB",
        "outputId": "7fc333b2-efb5-40c4-ac05-f12f384acfed"
      },
      "execution_count": null,
      "outputs": [
        {
          "output_type": "display_data",
          "data": {
            "text/plain": [
              "<Figure size 504x360 with 1 Axes>"
            ],
            "image/png": "[encoded data removed]"
          },
          "metadata": {
            "needs_background": "light"
          }
        },
        {
          "output_type": "display_data",
          "data": {
            "text/plain": [
              "<Figure size 504x360 with 1 Axes>"
            ],
            "image/png": "[encoded data removed]"
          },
          "metadata": {
            "needs_background": "light"
          }
        },
        {
          "output_type": "display_data",
          "data": {
            "text/plain": [
              "<Figure size 504x360 with 1 Axes>"
            ],
            "image/png": "[encoded data removed]"
          },
          "metadata": {
            "needs_background": "light"
          }
        }
      ]
    },
    {
      "cell_type": "markdown",
      "source": [
        "By the looks of it the best version to use i actually the `GridSearchCV()` `RandomForestClassifier()` trained on a regular DataFrame... There's nothing left to do but load in the train set and then just crop it down to our current standard, make the predictions and call it a day.\n",
        "\n",
        "## Final model and preparations for making the final prediction\n",
        "\n",
        "We will start by recreating the most promising of all the tested models and fit it with the whole DataFrame `X` and the \"Survived\" `y` set. Next step will consist of loading in the test data from the Kaggle competition and engineering it in the way as close to the original as possible. For now we will do it by hacking off parts of the original function. I plan to modify the original function however so that it works on both train and test data"
      ],
      "metadata": {
        "id": "eabFZUu2B826"
      }
    },
    {
      "cell_type": "code",
      "source": [
        "clf = RandomForestClassifier(\n",
        "    bootstrap= True,\n",
        "    max_depth= None,\n",
        "    max_features= \"sqrt\",\n",
        "    min_samples_leaf= 2,\n",
        "    min_samples_split= 2,\n",
        "    n_estimators= 1200,\n",
        "    warm_start= True\n",
        ")\n",
        "\n",
        "clf.fit(X, y)"
      ],
      "metadata": {
        "colab": {
          "base_uri": "https://localhost:8080/",
          "height": 75
        },
        "id": "_08oeUV1BGHY",
        "outputId": "2daee0ea-8e15-4391-971a-dc39293a44a7"
      },
      "execution_count": 60,
      "outputs": [
        {
          "output_type": "execute_result",
          "data": {
            "text/plain": [
              "RandomForestClassifier(min_samples_leaf=2, n_estimators=1200, warm_start=True)"
            ],
            "text/html": [
              "<style>#sk-container-id-6 {color: black;background-color: white;}#sk-container-id-6 pre{padding: 0;}#sk-container-id-6 div.sk-toggleable {background-color: white;}#sk-container-id-6 label.sk-toggleable__label {cursor: pointer;display: block;width: 100%;margin-bottom: 0;padding: 0.3em;box-sizing: border-box;text-align: center;}#sk-container-id-6 label.sk-toggleable__label-arrow:before {content: \"▸\";float: left;margin-right: 0.25em;color: #696969;}#sk-container-id-6 label.sk-toggleable__label-arrow:hover:before {color: black;}#sk-container-id-6 div.sk-estimator:hover label.sk-toggleable__label-arrow:before {color: black;}#sk-container-id-6 div.sk-toggleable__content {max-height: 0;max-width: 0;overflow: hidden;text-align: left;background-color: #f0f8ff;}#sk-container-id-6 div.sk-toggleable__content pre {margin: 0.2em;color: black;border-radius: 0.25em;background-color: #f0f8ff;}#sk-container-id-6 input.sk-toggleable__control:checked~div.sk-toggleable__content {max-height: 200px;max-width: 100%;overflow: auto;}#sk-container-id-6 input.sk-toggleable__control:checked~label.sk-toggleable__label-arrow:before {content: \"▾\";}#sk-container-id-6 div.sk-estimator input.sk-toggleable__control:checked~label.sk-toggleable__label {background-color: #d4ebff;}#sk-container-id-6 div.sk-label input.sk-toggleable__control:checked~label.sk-toggleable__label {background-color: #d4ebff;}#sk-container-id-6 input.sk-hidden--visually {border: 0;clip: rect(1px 1px 1px 1px);clip: rect(1px, 1px, 1px, 1px);height: 1px;margin: -1px;overflow: hidden;padding: 0;position: absolute;width: 1px;}#sk-container-id-6 div.sk-estimator {font-family: monospace;background-color: #f0f8ff;border: 1px dotted black;border-radius: 0.25em;box-sizing: border-box;margin-bottom: 0.5em;}#sk-container-id-6 div.sk-estimator:hover {background-color: #d4ebff;}#sk-container-id-6 div.sk-parallel-item::after {content: \"\";width: 100%;border-bottom: 1px solid gray;flex-grow: 1;}#sk-container-id-6 div.sk-label:hover label.sk-toggleable__label {background-color: #d4ebff;}#sk-container-id-6 div.sk-serial::before {content: \"\";position: absolute;border-left: 1px solid gray;box-sizing: border-box;top: 0;bottom: 0;left: 50%;z-index: 0;}#sk-container-id-6 div.sk-serial {display: flex;flex-direction: column;align-items: center;background-color: white;padding-right: 0.2em;padding-left: 0.2em;position: relative;}#sk-container-id-6 div.sk-item {position: relative;z-index: 1;}#sk-container-id-6 div.sk-parallel {display: flex;align-items: stretch;justify-content: center;background-color: white;position: relative;}#sk-container-id-6 div.sk-item::before, #sk-container-id-6 div.sk-parallel-item::before {content: \"\";position: absolute;border-left: 1px solid gray;box-sizing: border-box;top: 0;bottom: 0;left: 50%;z-index: -1;}#sk-container-id-6 div.sk-parallel-item {display: flex;flex-direction: column;z-index: 1;position: relative;background-color: white;}#sk-container-id-6 div.sk-parallel-item:first-child::after {align-self: flex-end;width: 50%;}#sk-container-id-6 div.sk-parallel-item:last-child::after {align-self: flex-start;width: 50%;}#sk-container-id-6 div.sk-parallel-item:only-child::after {width: 0;}#sk-container-id-6 div.sk-dashed-wrapped {border: 1px dashed gray;margin: 0 0.4em 0.5em 0.4em;box-sizing: border-box;padding-bottom: 0.4em;background-color: white;}#sk-container-id-6 div.sk-label label {font-family: monospace;font-weight: bold;display: inline-block;line-height: 1.2em;}#sk-container-id-6 div.sk-label-container {text-align: center;}#sk-container-id-6 div.sk-container {/* jupyter's `normalize.less` sets `[hidden] { display: none; }` but bootstrap.min.css set `[hidden] { display: none !important; }` so we also need the `!important` here to be able to override the default hidden behavior on the sphinx rendered scikit-learn.org. See: https://github.com/scikit-learn/scikit-learn/issues/21755 */display: inline-block !important;position: relative;}#sk-container-id-6 div.sk-text-repr-fallback {display: none;}</style><div id=\"sk-container-id-6\" class=\"sk-top-container\"><div class=\"sk-text-repr-fallback\"><pre>RandomForestClassifier(min_samples_leaf=2, n_estimators=1200, warm_start=True)</pre><b>In a Jupyter environment, please rerun this cell to show the HTML representation or trust the notebook. <br />On GitHub, the HTML representation is unable to render, please try loading this page with nbviewer.org.</b></div><div class=\"sk-container\" hidden><div class=\"sk-item\"><div class=\"sk-estimator sk-toggleable\"><input class=\"sk-toggleable__control sk-hidden--visually\" id=\"sk-estimator-id-14\" type=\"checkbox\" checked><label for=\"sk-estimator-id-14\" class=\"sk-toggleable__label sk-toggleable__label-arrow\">RandomForestClassifier</label><div class=\"sk-toggleable__content\"><pre>RandomForestClassifier(min_samples_leaf=2, n_estimators=1200, warm_start=True)</pre></div></div></div></div></div>"
            ]
          },
          "metadata": {},
          "execution_count": 60
        }
      ]
    },
    {
      "cell_type": "code",
      "source": [
        "try:  \n",
        "  test_df = pd.read_csv(\"/content/drive/MyDrive/Titanic ML Comp/test.csv\")\n",
        "except:\n",
        "  test_df = pr.read_csv(\"/kaggle/input/titanic/test.csv\")\n",
        "print(np.sum(test_df.isna())), print(test_df.shape), print(test_df.dtypes);"
      ],
      "metadata": {
        "colab": {
          "base_uri": "https://localhost:8080/"
        },
        "id": "l498CY8aC3bT",
        "outputId": "3ff412d6-0852-4215-fea9-f62d3af0b7a4"
      },
      "execution_count": 61,
      "outputs": [
        {
          "output_type": "stream",
          "name": "stdout",
          "text": [
            "PassengerId      0\n",
            "Pclass           0\n",
            "Name             0\n",
            "Sex              0\n",
            "Age             86\n",
            "SibSp            0\n",
            "Parch            0\n",
            "Ticket           0\n",
            "Fare             1\n",
            "Cabin          327\n",
            "Embarked         0\n",
            "dtype: int64\n",
            "(418, 11)\n",
            "PassengerId      int64\n",
            "Pclass           int64\n",
            "Name            object\n",
            "Sex             object\n",
            "Age            float64\n",
            "SibSp            int64\n",
            "Parch            int64\n",
            "Ticket          object\n",
            "Fare           float64\n",
            "Cabin           object\n",
            "Embarked        object\n",
            "dtype: object\n"
          ]
        }
      ]
    },
    {
      "cell_type": "markdown",
      "source": [
        "While we could remove the rows with missing values from the training and validation sets we can't do that here...\n",
        "\n",
        "What we'll have to do is create mean estimates of the missing values. Except for \"Cabin\" of course. We can drop an entire column there...\n",
        "\n",
        "We will sadly have to hack parts off of our `data_manipulator` function and use them here."
      ],
      "metadata": {
        "id": "2DHtZE9sD7o_"
      }
    },
    {
      "cell_type": "code",
      "source": [
        "passengers_ids = []\n",
        "for id in test_df[\"PassengerId\"]:\n",
        "  passengers_ids.append(id)\n",
        "# Let's start by dropping the entire \"Cabin\", \"Name\", \"Embarked\", \"Parch\" and \"SibSp\" columns\n",
        "test_df.drop([\"Cabin\", \"Name\", \"PassengerId\"], axis=1, inplace= True)\n",
        "\n",
        "# Nex step is making the estimations in the missing \"Age\" and \"Fare\" columns.\n",
        "test_df.fillna(value={\"Age\": np.mean(test_df[\"Age\"]), \"Fare\": np.mean(test_df[\"Fare\"])}, inplace=True)\n",
        "\n",
        "# We also have to remember that we have to change the dtypes into int64 which means changing categoricals into numbers\n",
        "for idx in test_df.index:\n",
        "    embarked = test_df[\"Embarked\"][idx]\n",
        "    sex = test_df[\"Sex\"][idx]\n",
        "    if embarked == \"C\":\n",
        "      embarked = 0\n",
        "    elif embarked == \"Q\":\n",
        "      embarked = 1\n",
        "    elif embarked ==\"S\":\n",
        "      embarked = 2\n",
        "    else:\n",
        "      pass\n",
        "    if sex == \"male\":\n",
        "      sex = 0\n",
        "    else:\n",
        "      sex = 1\n",
        "\n",
        "    test_df[\"Embarked\"][idx] = embarked\n",
        "    test_df[\"Sex\"][idx] = sex\n",
        "\n",
        "  # Here I will attempt to turn \"object\" type tickets into int64 tickets by cutting off the letters\n",
        "  #I doubt it's a good practice but for now it should do\n",
        "  \n",
        "ticket_list = []\n",
        "for ticket in test_df[\"Ticket\"]:\n",
        "  new_ticket = \"\"\n",
        "  for char in ticket:\n",
        "    if char.isnumeric():\n",
        "      new_ticket += char\n",
        "    else:\n",
        "      continue\n",
        "  if new_ticket == \"\":\n",
        "    new_ticket = None\n",
        "  ticket_list.append(new_ticket)\n",
        "\n",
        "test_df[\"Ticket\"] = ticket_list\n",
        "\n",
        "test_df = test_df.astype({\"Sex\": \"int64\", \"Ticket\": \"int64\", \"Embarked\": \"int64\"})\n",
        "\n",
        "\n",
        "print(np.sum(test_df.isna())), print(test_df.shape), print(test_df.dtypes);"
      ],
      "metadata": {
        "colab": {
          "base_uri": "https://localhost:8080/"
        },
        "id": "AHl-XolqDGBP",
        "outputId": "0a4548fb-9c28-417e-c7ec-f62a56474de5"
      },
      "execution_count": 62,
      "outputs": [
        {
          "output_type": "stream",
          "name": "stdout",
          "text": [
            "Pclass      0\n",
            "Sex         0\n",
            "Age         0\n",
            "SibSp       0\n",
            "Parch       0\n",
            "Ticket      0\n",
            "Fare        0\n",
            "Embarked    0\n",
            "dtype: int64\n",
            "(418, 8)\n",
            "Pclass        int64\n",
            "Sex           int64\n",
            "Age         float64\n",
            "SibSp         int64\n",
            "Parch         int64\n",
            "Ticket        int64\n",
            "Fare        float64\n",
            "Embarked      int64\n",
            "dtype: object\n"
          ]
        }
      ]
    },
    {
      "cell_type": "code",
      "source": [
        "test_df.head()"
      ],
      "metadata": {
        "colab": {
          "base_uri": "https://localhost:8080/",
          "height": 206
        },
        "id": "ioIw5trLIIMR",
        "outputId": "8ae8a2a3-4e14-42d3-f4c2-0d93f3ab67e0"
      },
      "execution_count": 63,
      "outputs": [
        {
          "output_type": "execute_result",
          "data": {
            "text/plain": [
              "   Pclass  Sex   Age  SibSp  Parch   Ticket     Fare  Embarked\n",
              "0       3    0  34.5      0      0   330911   7.8292         1\n",
              "1       3    1  47.0      1      0   363272   7.0000         2\n",
              "2       2    0  62.0      0      0   240276   9.6875         1\n",
              "3       3    0  27.0      0      0   315154   8.6625         2\n",
              "4       3    1  22.0      1      1  3101298  12.2875         2"
            ],
            "text/html": [
              "\n",
              "  <div id=\"df-d126f476-9b02-4f97-9fcd-85bd1506f02b\">\n",
              "    <div class=\"colab-df-container\">\n",
              "      <div>\n",
              "<style scoped>\n",
              "    .dataframe tbody tr th:only-of-type {\n",
              "        vertical-align: middle;\n",
              "    }\n",
              "\n",
              "    .dataframe tbody tr th {\n",
              "        vertical-align: top;\n",
              "    }\n",
              "\n",
              "    .dataframe thead th {\n",
              "        text-align: right;\n",
              "    }\n",
              "</style>\n",
              "<table border=\"1\" class=\"dataframe\">\n",
              "  <thead>\n",
              "    <tr style=\"text-align: right;\">\n",
              "      <th></th>\n",
              "      <th>Pclass</th>\n",
              "      <th>Sex</th>\n",
              "      <th>Age</th>\n",
              "      <th>SibSp</th>\n",
              "      <th>Parch</th>\n",
              "      <th>Ticket</th>\n",
              "      <th>Fare</th>\n",
              "      <th>Embarked</th>\n",
              "    </tr>\n",
              "  </thead>\n",
              "  <tbody>\n",
              "    <tr>\n",
              "      <th>0</th>\n",
              "      <td>3</td>\n",
              "      <td>0</td>\n",
              "      <td>34.5</td>\n",
              "      <td>0</td>\n",
              "      <td>0</td>\n",
              "      <td>330911</td>\n",
              "      <td>7.8292</td>\n",
              "      <td>1</td>\n",
              "    </tr>\n",
              "    <tr>\n",
              "      <th>1</th>\n",
              "      <td>3</td>\n",
              "      <td>1</td>\n",
              "      <td>47.0</td>\n",
              "      <td>1</td>\n",
              "      <td>0</td>\n",
              "      <td>363272</td>\n",
              "      <td>7.0000</td>\n",
              "      <td>2</td>\n",
              "    </tr>\n",
              "    <tr>\n",
              "      <th>2</th>\n",
              "      <td>2</td>\n",
              "      <td>0</td>\n",
              "      <td>62.0</td>\n",
              "      <td>0</td>\n",
              "      <td>0</td>\n",
              "      <td>240276</td>\n",
              "      <td>9.6875</td>\n",
              "      <td>1</td>\n",
              "    </tr>\n",
              "    <tr>\n",
              "      <th>3</th>\n",
              "      <td>3</td>\n",
              "      <td>0</td>\n",
              "      <td>27.0</td>\n",
              "      <td>0</td>\n",
              "      <td>0</td>\n",
              "      <td>315154</td>\n",
              "      <td>8.6625</td>\n",
              "      <td>2</td>\n",
              "    </tr>\n",
              "    <tr>\n",
              "      <th>4</th>\n",
              "      <td>3</td>\n",
              "      <td>1</td>\n",
              "      <td>22.0</td>\n",
              "      <td>1</td>\n",
              "      <td>1</td>\n",
              "      <td>3101298</td>\n",
              "      <td>12.2875</td>\n",
              "      <td>2</td>\n",
              "    </tr>\n",
              "  </tbody>\n",
              "</table>\n",
              "</div>\n",
              "      <button class=\"colab-df-convert\" onclick=\"convertToInteractive('df-d126f476-9b02-4f97-9fcd-85bd1506f02b')\"\n",
              "              title=\"Convert this dataframe to an interactive table.\"\n",
              "              style=\"display:none;\">\n",
              "        \n",
              "  <svg xmlns=\"http://www.w3.org/2000/svg\" height=\"24px\"viewBox=\"0 0 24 24\"\n",
              "       width=\"24px\">\n",
              "    <path d=\"M0 0h24v24H0V0z\" fill=\"none\"/>\n",
              "    <path d=\"M18.56 5.44l.94 2.06.94-2.06 2.06-.94-2.06-.94-.94-2.06-.94 2.06-2.06.94zm-11 1L8.5 8.5l.94-2.06 2.06-.94-2.06-.94L8.5 2.5l-.94 2.06-2.06.94zm10 10l.94 2.06.94-2.06 2.06-.94-2.06-.94-.94-2.06-.94 2.06-2.06.94z\"/><path d=\"M17.41 7.96l-1.37-1.37c-.4-.4-.92-.59-1.43-.59-.52 0-1.04.2-1.43.59L10.3 9.45l-7.72 7.72c-.78.78-.78 2.05 0 2.83L4 21.41c.39.39.9.59 1.41.59.51 0 1.02-.2 1.41-.59l7.78-7.78 2.81-2.81c.8-.78.8-2.07 0-2.86zM5.41 20L4 18.59l7.72-7.72 1.47 1.35L5.41 20z\"/>\n",
              "  </svg>\n",
              "      </button>\n",
              "      \n",
              "  <style>\n",
              "    .colab-df-container {\n",
              "      display:flex;\n",
              "      flex-wrap:wrap;\n",
              "      gap: 12px;\n",
              "    }\n",
              "\n",
              "    .colab-df-convert {\n",
              "      background-color: #E8F0FE;\n",
              "      border: none;\n",
              "      border-radius: 50%;\n",
              "      cursor: pointer;\n",
              "      display: none;\n",
              "      fill: #1967D2;\n",
              "      height: 32px;\n",
              "      padding: 0 0 0 0;\n",
              "      width: 32px;\n",
              "    }\n",
              "\n",
              "    .colab-df-convert:hover {\n",
              "      background-color: #E2EBFA;\n",
              "      box-shadow: 0px 1px 2px rgba(60, 64, 67, 0.3), 0px 1px 3px 1px rgba(60, 64, 67, 0.15);\n",
              "      fill: #174EA6;\n",
              "    }\n",
              "\n",
              "    [theme=dark] .colab-df-convert {\n",
              "      background-color: #3B4455;\n",
              "      fill: #D2E3FC;\n",
              "    }\n",
              "\n",
              "    [theme=dark] .colab-df-convert:hover {\n",
              "      background-color: #434B5C;\n",
              "      box-shadow: 0px 1px 3px 1px rgba(0, 0, 0, 0.15);\n",
              "      filter: drop-shadow(0px 1px 2px rgba(0, 0, 0, 0.3));\n",
              "      fill: #FFFFFF;\n",
              "    }\n",
              "  </style>\n",
              "\n",
              "      <script>\n",
              "        const buttonEl =\n",
              "          document.querySelector('#df-d126f476-9b02-4f97-9fcd-85bd1506f02b button.colab-df-convert');\n",
              "        buttonEl.style.display =\n",
              "          google.colab.kernel.accessAllowed ? 'block' : 'none';\n",
              "\n",
              "        async function convertToInteractive(key) {\n",
              "          const element = document.querySelector('#df-d126f476-9b02-4f97-9fcd-85bd1506f02b');\n",
              "          const dataTable =\n",
              "            await google.colab.kernel.invokeFunction('convertToInteractive',\n",
              "                                                     [key], {});\n",
              "          if (!dataTable) return;\n",
              "\n",
              "          const docLinkHtml = 'Like what you see? Visit the ' +\n",
              "            '<a target=\"_blank\" href=https://colab.research.google.com/notebooks/data_table.ipynb>data table notebook</a>'\n",
              "            + ' to learn more about interactive tables.';\n",
              "          element.innerHTML = '';\n",
              "          dataTable['output_type'] = 'display_data';\n",
              "          await google.colab.output.renderOutput(dataTable, element);\n",
              "          const docLink = document.createElement('div');\n",
              "          docLink.innerHTML = docLinkHtml;\n",
              "          element.appendChild(docLink);\n",
              "        }\n",
              "      </script>\n",
              "    </div>\n",
              "  </div>\n",
              "  "
            ]
          },
          "metadata": {},
          "execution_count": 63
        }
      ]
    },
    {
      "cell_type": "markdown",
      "source": [
        "## Making predictions and preparing the \"solution.csv\" file\n",
        "\n",
        "Final step in this notebook is making the 'predictions' array. Then we will put it alongside the PassengerIds into a DataFrame and export it to .csv file. "
      ],
      "metadata": {
        "id": "7fiyWa6ULxFc"
      }
    },
    {
      "cell_type": "code",
      "source": [
        "predictions = clf.predict(test_df)\n",
        "\n",
        "print(len(passengers_ids)), print(len(predictions))"
      ],
      "metadata": {
        "colab": {
          "base_uri": "https://localhost:8080/"
        },
        "id": "rREjcDAHNnyC",
        "outputId": "9c861ef8-4fa6-4269-e74a-57f28eb7ebdd"
      },
      "execution_count": 64,
      "outputs": [
        {
          "output_type": "stream",
          "name": "stdout",
          "text": [
            "418\n",
            "418\n"
          ]
        },
        {
          "output_type": "execute_result",
          "data": {
            "text/plain": [
              "(None, None)"
            ]
          },
          "metadata": {},
          "execution_count": 64
        }
      ]
    },
    {
      "cell_type": "code",
      "source": [
        "solutions = pd.DataFrame(columns=[\"PassengerId\", \"Survived\"])\n",
        "solutions[\"PassengerId\"] = passengers_ids\n",
        "solutions[\"Survived\"] = predictions\n",
        "\n",
        "solutions.to_csv(index=False, path_or_buf=\"/content/drive/MyDrive/Titanic ML Comp/solution.csv\")"
      ],
      "metadata": {
        "id": "fJnAx3qOOobL"
      },
      "execution_count": 65,
      "outputs": []
    },
    {
      "cell_type": "markdown",
      "source": [
        "## Final thoughts\n",
        "\n",
        "This \"solution.csv\" file is ready for submission on Kaggle - this iteration of our estimator performed at 76.555 % accuracy. That's not great but quite sattisfying for now, since I will probably return to this notebook at a later date. From what I learned my data manipulation was quite okay, since I did what most people do with these columns. \n",
        "\n",
        "I'm just surprised that the model did at around 81% accuracy on the validation set but did worse on the actual test data. Still, that's something we can work on with XGBoost, CatBoost or just popping our problem into Auto-ML.\n",
        "\n",
        "For now that's it, I'm quite happy about this notebook and how it worked out. Especially for something done in few free minutes between patietns.\n",
        "\n",
        "Cheers for now, see you round.\n"
      ],
      "metadata": {
        "id": "dsaxHXALM7hq"
      }
    },
    {
      "cell_type": "code",
      "source": [],
      "metadata": {
        "id": "Cr4sptLNN6Ga"
      },
      "execution_count": null,
      "outputs": []
    }
  ],
  "metadata": {
    "colab": {
      "provenance": [],
      "toc_visible": true,
      "mount_file_id": "1sp1TR1irR0_9-fbpLqOvmOBIJ77FBGXU",
      "authorship_tag": "ABX9TyODPSsdNFdp0k8eRQWR1SyV",
      "include_colab_link": true
    },
    "gpuClass": "standard",
    "kernelspec": {
      "display_name": "Python 3",
      "name": "python3"
    },
    "language_info": {
      "name": "python"
    }
  },
  "nbformat": 4,
  "nbformat_minor": 0
}